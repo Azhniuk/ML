{
 "cells": [
  {
   "cell_type": "code",
   "execution_count": 1,
   "id": "588d641f",
   "metadata": {},
   "outputs": [],
   "source": [
    "import csv\n",
    "import pandas as pd\n"
   ]
  },
  {
   "cell_type": "code",
   "execution_count": 4,
   "id": "11a943ca",
   "metadata": {},
   "outputs": [],
   "source": [
    "path = 'H2O.zip'\n",
    "pathCSV = 'H2_O2_production.csv'"
   ]
  },
  {
   "cell_type": "code",
   "execution_count": 5,
   "id": "65ec4333",
   "metadata": {},
   "outputs": [],
   "source": [
    "from zipfile import *\n",
    "with ZipFile(path, 'r') as zip:\n",
    "    zip.extractall()"
   ]
  },
  {
   "cell_type": "code",
   "execution_count": 6,
   "id": "e5a4fd1e",
   "metadata": {},
   "outputs": [
    {
     "data": {
      "text/html": [
       "<div>\n",
       "<style scoped>\n",
       "    .dataframe tbody tr th:only-of-type {\n",
       "        vertical-align: middle;\n",
       "    }\n",
       "\n",
       "    .dataframe tbody tr th {\n",
       "        vertical-align: top;\n",
       "    }\n",
       "\n",
       "    .dataframe thead th {\n",
       "        text-align: right;\n",
       "    }\n",
       "</style>\n",
       "<table border=\"1\" class=\"dataframe\">\n",
       "  <thead>\n",
       "    <tr style=\"text-align: right;\">\n",
       "      <th></th>\n",
       "      <th>Unnamed: 0</th>\n",
       "      <th>Time</th>\n",
       "      <th>H2_O2_Real_Volumen_Production</th>\n",
       "      <th>H2_Real_Volumen_Production</th>\n",
       "      <th>O2_Real_Production</th>\n",
       "    </tr>\n",
       "  </thead>\n",
       "  <tbody>\n",
       "    <tr>\n",
       "      <th>0</th>\n",
       "      <td>1</td>\n",
       "      <td>08:30:00</td>\n",
       "      <td>0.332963</td>\n",
       "      <td>0.22</td>\n",
       "      <td>0.110988</td>\n",
       "    </tr>\n",
       "    <tr>\n",
       "      <th>1</th>\n",
       "      <td>2</td>\n",
       "      <td>09:30:00</td>\n",
       "      <td>0.523560</td>\n",
       "      <td>0.35</td>\n",
       "      <td>0.174520</td>\n",
       "    </tr>\n",
       "    <tr>\n",
       "      <th>2</th>\n",
       "      <td>3</td>\n",
       "      <td>10:30:00</td>\n",
       "      <td>0.837989</td>\n",
       "      <td>0.56</td>\n",
       "      <td>0.279330</td>\n",
       "    </tr>\n",
       "    <tr>\n",
       "      <th>3</th>\n",
       "      <td>4</td>\n",
       "      <td>11:30:00</td>\n",
       "      <td>0.626043</td>\n",
       "      <td>0.42</td>\n",
       "      <td>0.208681</td>\n",
       "    </tr>\n",
       "    <tr>\n",
       "      <th>4</th>\n",
       "      <td>5</td>\n",
       "      <td>12:30:00</td>\n",
       "      <td>1.083424</td>\n",
       "      <td>0.72</td>\n",
       "      <td>0.361141</td>\n",
       "    </tr>\n",
       "  </tbody>\n",
       "</table>\n",
       "</div>"
      ],
      "text/plain": [
       "   Unnamed: 0      Time  H2_O2_Real_Volumen_Production  \\\n",
       "0           1  08:30:00                       0.332963   \n",
       "1           2  09:30:00                       0.523560   \n",
       "2           3  10:30:00                       0.837989   \n",
       "3           4  11:30:00                       0.626043   \n",
       "4           5  12:30:00                       1.083424   \n",
       "\n",
       "   H2_Real_Volumen_Production  O2_Real_Production  \n",
       "0                        0.22            0.110988  \n",
       "1                        0.35            0.174520  \n",
       "2                        0.56            0.279330  \n",
       "3                        0.42            0.208681  \n",
       "4                        0.72            0.361141  "
      ]
     },
     "execution_count": 6,
     "metadata": {},
     "output_type": "execute_result"
    }
   ],
   "source": [
    "data = pd.read_csv(pathCSV, sep=',')\n",
    "data.head()"
   ]
  },
  {
   "cell_type": "code",
   "execution_count": null,
   "id": "2627fec7",
   "metadata": {},
   "outputs": [],
   "source": []
  }
 ],
 "metadata": {
  "kernelspec": {
   "display_name": "Python 3 (ipykernel)",
   "language": "python",
   "name": "python3"
  },
  "language_info": {
   "codemirror_mode": {
    "name": "ipython",
    "version": 3
   },
   "file_extension": ".py",
   "mimetype": "text/x-python",
   "name": "python",
   "nbconvert_exporter": "python",
   "pygments_lexer": "ipython3",
   "version": "3.7.16"
  }
 },
 "nbformat": 4,
 "nbformat_minor": 5
}
