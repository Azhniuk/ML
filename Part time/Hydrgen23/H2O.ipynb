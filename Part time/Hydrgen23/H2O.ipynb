{
 "cells": [
  {
   "cell_type": "code",
   "execution_count": 64,
   "id": "b0c97fda",
   "metadata": {},
   "outputs": [],
   "source": [
    "import csv\n",
    "import pandas as pd\n",
    "import matplotlib.pyplot as plt\n"
   ]
  },
  {
   "cell_type": "code",
   "execution_count": 69,
   "id": "3a415d39",
   "metadata": {},
   "outputs": [
    {
     "data": {
      "text/html": [
       "<div>\n",
       "<style scoped>\n",
       "    .dataframe tbody tr th:only-of-type {\n",
       "        vertical-align: middle;\n",
       "    }\n",
       "\n",
       "    .dataframe tbody tr th {\n",
       "        vertical-align: top;\n",
       "    }\n",
       "\n",
       "    .dataframe thead th {\n",
       "        text-align: right;\n",
       "    }\n",
       "</style>\n",
       "<table border=\"1\" class=\"dataframe\">\n",
       "  <thead>\n",
       "    <tr style=\"text-align: right;\">\n",
       "      <th></th>\n",
       "      <th>Material_Class</th>\n",
       "      <th>Hydrogen_Weight_Percent</th>\n",
       "      <th>Heat_of_Formation_kJperMolH2</th>\n",
       "      <th>Temperature_oC</th>\n",
       "      <th>Pressure_Atmospheres_Absolute</th>\n",
       "      <th>Entropy_of_Formation_JperMolH2perK</th>\n",
       "      <th>Equilibrium_Pressure_25C</th>\n",
       "      <th>LnEquilibrium_Pressure_25C</th>\n",
       "      <th>HtoM</th>\n",
       "    </tr>\n",
       "  </thead>\n",
       "  <tbody>\n",
       "    <tr>\n",
       "      <th>0</th>\n",
       "      <td>A2B</td>\n",
       "      <td>0.8</td>\n",
       "      <td>130.0</td>\n",
       "      <td>500.0</td>\n",
       "      <td>0.001</td>\n",
       "      <td>110.711134</td>\n",
       "      <td>1.016736e-17</td>\n",
       "      <td>-39.127349</td>\n",
       "      <td>1.309571</td>\n",
       "    </tr>\n",
       "    <tr>\n",
       "      <th>1</th>\n",
       "      <td>A2B</td>\n",
       "      <td>2.2</td>\n",
       "      <td>130.0</td>\n",
       "      <td>500.0</td>\n",
       "      <td>0.120</td>\n",
       "      <td>150.515102</td>\n",
       "      <td>1.220083e-15</td>\n",
       "      <td>-34.339857</td>\n",
       "      <td>1.184850</td>\n",
       "    </tr>\n",
       "    <tr>\n",
       "      <th>2</th>\n",
       "      <td>A2B</td>\n",
       "      <td>1.3</td>\n",
       "      <td>144.0</td>\n",
       "      <td>600.0</td>\n",
       "      <td>0.003</td>\n",
       "      <td>116.621978</td>\n",
       "      <td>7.297612e-20</td>\n",
       "      <td>-44.064155</td>\n",
       "      <td>1.071443</td>\n",
       "    </tr>\n",
       "    <tr>\n",
       "      <th>3</th>\n",
       "      <td>A2B</td>\n",
       "      <td>1.3</td>\n",
       "      <td>183.0</td>\n",
       "      <td>604.0</td>\n",
       "      <td>0.003</td>\n",
       "      <td>160.332084</td>\n",
       "      <td>2.058957e-24</td>\n",
       "      <td>-54.539843</td>\n",
       "      <td>1.050307</td>\n",
       "    </tr>\n",
       "    <tr>\n",
       "      <th>4</th>\n",
       "      <td>A2B</td>\n",
       "      <td>3.6</td>\n",
       "      <td>64.5</td>\n",
       "      <td>299.0</td>\n",
       "      <td>3.200</td>\n",
       "      <td>122.403296</td>\n",
       "      <td>1.240158e-05</td>\n",
       "      <td>-11.297687</td>\n",
       "      <td>1.325126</td>\n",
       "    </tr>\n",
       "  </tbody>\n",
       "</table>\n",
       "</div>"
      ],
      "text/plain": [
       "  Material_Class  Hydrogen_Weight_Percent  Heat_of_Formation_kJperMolH2  \\\n",
       "0            A2B                      0.8                         130.0   \n",
       "1            A2B                      2.2                         130.0   \n",
       "2            A2B                      1.3                         144.0   \n",
       "3            A2B                      1.3                         183.0   \n",
       "4            A2B                      3.6                          64.5   \n",
       "\n",
       "   Temperature_oC  Pressure_Atmospheres_Absolute  \\\n",
       "0           500.0                          0.001   \n",
       "1           500.0                          0.120   \n",
       "2           600.0                          0.003   \n",
       "3           604.0                          0.003   \n",
       "4           299.0                          3.200   \n",
       "\n",
       "   Entropy_of_Formation_JperMolH2perK  Equilibrium_Pressure_25C  \\\n",
       "0                          110.711134              1.016736e-17   \n",
       "1                          150.515102              1.220083e-15   \n",
       "2                          116.621978              7.297612e-20   \n",
       "3                          160.332084              2.058957e-24   \n",
       "4                          122.403296              1.240158e-05   \n",
       "\n",
       "   LnEquilibrium_Pressure_25C      HtoM  \n",
       "0                  -39.127349  1.309571  \n",
       "1                  -34.339857  1.184850  \n",
       "2                  -44.064155  1.071443  \n",
       "3                  -54.539843  1.050307  \n",
       "4                  -11.297687  1.325126  "
      ]
     },
     "execution_count": 69,
     "metadata": {},
     "output_type": "execute_result"
    }
   ],
   "source": [
    "path = 'main.csv'\n",
    "data = pd.read_csv(path, sep=',')\n",
    "data = data.drop(['Unnamed: 0', 'Composition_Formula', 'Reference'], axis = 1)\n",
    "data.head()"
   ]
  },
  {
   "cell_type": "code",
   "execution_count": 71,
   "id": "e93822d9",
   "metadata": {},
   "outputs": [],
   "source": [
    "material_class = data['Material_Class'].unique()\n",
    "data = data[data['Material_Class'].notna()]"
   ]
  },
  {
   "cell_type": "code",
   "execution_count": 72,
   "id": "434dc2e1",
   "metadata": {},
   "outputs": [
    {
     "name": "stdout",
     "output_type": "stream",
     "text": [
      "['A2B' 'AB' 'AB2' 'AB5' 'Mg' 'MIC' 'SS']\n"
     ]
    }
   ],
   "source": [
    "print(material_class)"
   ]
  },
  {
   "cell_type": "code",
   "execution_count": 60,
   "id": "1443eee9",
   "metadata": {},
   "outputs": [],
   "source": [
    "data['Material_Class'].replace({'A2B': 1, 'AB': 2, 'AB2': 3, 'AB5':4, 'Mg':5, 'MIC':6, 'SS':7}, inplace=True)"
   ]
  },
  {
   "cell_type": "code",
   "execution_count": 61,
   "id": "8019d103",
   "metadata": {},
   "outputs": [
    {
     "data": {
      "text/plain": [
       "3    119\n",
       "4    106\n",
       "7     53\n",
       "6     52\n",
       "2     33\n",
       "5     32\n",
       "1     10\n",
       "Name: Material_Class, dtype: int64"
      ]
     },
     "execution_count": 61,
     "metadata": {},
     "output_type": "execute_result"
    }
   ],
   "source": [
    "data['Material_Class'].value_counts() "
   ]
  },
  {
   "cell_type": "markdown",
   "id": "e4b33e5e",
   "metadata": {},
   "source": [
    "Отримати найвищий Hydrogen_Weight_Percent використовуючи найменше \n",
    "\n",
    "tune temperature to get best weight "
   ]
  },
  {
   "cell_type": "code",
   "execution_count": 67,
   "id": "4b276feb",
   "metadata": {},
   "outputs": [
    {
     "data": {
      "image/png": "[encoded data removed]",
      "text/plain": [
       "<Figure size 640x480 with 1 Axes>"
      ]
     },
     "metadata": {},
     "output_type": "display_data"
    }
   ],
   "source": [
    "x = data['Material_Class']\n",
    "y = data['Hydrogen_Weight_Percent']\n",
    "\n",
    "x = x.values.reshape(len(x),1)\n",
    "y = y.values.reshape(len(y),1)\n",
    "\n",
    "plt.scatter(x, y,  color='blue')\n",
    "plt.xlabel('Class')\n",
    "plt.ylabel('Weight')\n",
    "plt.xticks(())\n",
    "plt.yticks(())\n",
    "\n",
    "plt.show()\n"
   ]
  },
  {
   "cell_type": "code",
   "execution_count": null,
   "id": "79434c74",
   "metadata": {},
   "outputs": [],
   "source": []
  }
 ],
 "metadata": {
  "kernelspec": {
   "display_name": "Python 3 (ipykernel)",
   "language": "python",
   "name": "python3"
  },
  "language_info": {
   "codemirror_mode": {
    "name": "ipython",
    "version": 3
   },
   "file_extension": ".py",
   "mimetype": "text/x-python",
   "name": "python",
   "nbconvert_exporter": "python",
   "pygments_lexer": "ipython3",
   "version": "3.7.16"
  }
 },
 "nbformat": 4,
 "nbformat_minor": 5
}
