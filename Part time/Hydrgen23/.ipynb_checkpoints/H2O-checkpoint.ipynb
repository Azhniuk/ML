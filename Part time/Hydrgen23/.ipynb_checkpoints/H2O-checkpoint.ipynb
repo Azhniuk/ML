{
 "cells": [
  {
   "cell_type": "code",
   "execution_count": 1,
   "id": "6dd51433",
   "metadata": {},
   "outputs": [],
   "source": [
    "import csv\n",
    "import pandas as pd\n"
   ]
  },
  {
   "cell_type": "code",
   "execution_count": 2,
   "id": "a27f3ce1",
   "metadata": {},
   "outputs": [],
   "source": [
    "path = 'H2O.zip'\n",
    "pathCSV = 'H2_O2_production.csv'"
   ]
  },
  {
   "cell_type": "code",
   "execution_count": 3,
   "id": "ed9b2b2e",
   "metadata": {},
   "outputs": [],
   "source": [
    "from zipfile import *\n",
    "with ZipFile(path, 'r') as zip:\n",
    "    zip.extractall()"
   ]
  },
  {
   "cell_type": "code",
   "execution_count": null,
   "id": "a7ed715b",
   "metadata": {},
   "outputs": [],
   "source": [
    "data = pd.read_csv(pathCSV, sep=',')\n",
    "data.head()"
   ]
  }
 ],
 "metadata": {
  "kernelspec": {
   "display_name": "Python 3 (ipykernel)",
   "language": "python",
   "name": "python3"
  },
  "language_info": {
   "codemirror_mode": {
    "name": "ipython",
    "version": 3
   },
   "file_extension": ".py",
   "mimetype": "text/x-python",
   "name": "python",
   "nbconvert_exporter": "python",
   "pygments_lexer": "ipython3",
   "version": "3.7.16"
  }
 },
 "nbformat": 4,
 "nbformat_minor": 5
}
