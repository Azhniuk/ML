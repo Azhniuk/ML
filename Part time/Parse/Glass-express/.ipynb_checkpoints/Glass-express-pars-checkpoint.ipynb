{
 "cells": [
  {
   "cell_type": "code",
   "execution_count": null,
   "id": "57048f82",
   "metadata": {},
   "outputs": [],
   "source": []
  },
  {
   "cell_type": "markdown",
   "id": "8a0d3b5d",
   "metadata": {},
   "source": [
    "Main"
   ]
  },
  {
   "cell_type": "code",
   "execution_count": 1,
   "id": "696009a7",
   "metadata": {},
   "outputs": [],
   "source": [
    "import requests\n",
    "import pandas as pd\n",
    "from bs4 import BeautifulSoup\n",
    "import time\n",
    "\n",
    "with open('sitemap.xml', 'r') as f:\n",
    "    data = f.read() \n",
    "\n",
    "bs_data = BeautifulSoup(data, 'xml') \n",
    "b_name = bs_data.find_all('loc') \n",
    "\n",
    "text_file = open(\"links.txt\", \"w\")\n",
    "exclusion = ['https://shop.glass-express.ua/','https://shop.glass-express.ua/klienty-o-nas',\n",
    "             'https://shop.glass-express.ua/en/klienty-o-nas', 'https://shop.glass-express.ua/ua/klienty-o-nas',\n",
    "             'https://shop.glass-express.ua/ua/o-kompanii','https://shop.glass-express.ua/dostavka-i-oplata',\n",
    "             'https://shop.glass-express.ua/kontakty', 'https://shop.glass-express.ua/garantiia-i-vozvrat',\n",
    "             'https://shop.glass-express.ua/zapisatsia-na-servis', 'https://shop.glass-express.ua/publichnyi-dogovor',\n",
    "             'https://shop.glass-express.ua/servisni-tsentri']\n",
    "\n",
    "\n",
    "#Create file with links\n",
    "for link in b_name :\n",
    "     if link.get_text() not in exclusion:\n",
    "            text_file.write(link.get_text()+ \"\\n\")\n",
    "text_file.close()\n",
    "\n",
    "\n"
   ]
  },
  {
   "cell_type": "code",
   "execution_count": 2,
   "id": "46316cf6",
   "metadata": {},
   "outputs": [],
   "source": []
  },
  {
   "cell_type": "code",
   "execution_count": 29,
   "id": "c53ee959",
   "metadata": {},
   "outputs": [
    {
     "name": "stdout",
     "output_type": "stream",
     "text": [
      "2\n",
      "3\n",
      "4\n",
      "5\n",
      "6\n",
      "7\n",
      "8\n",
      "9\n",
      "10\n",
      "11\n",
      "12\n",
      "13\n",
      "14\n",
      "15\n",
      "16\n",
      "17\n",
      "18\n",
      "19\n",
      "20\n",
      "21\n",
      "22\n",
      "23\n",
      "24\n",
      "25\n",
      "26\n"
     ]
    }
   ],
   "source": [
    "import pandas as pd\n",
    "import xlsxwriter\n",
    "from bs4 import BeautifulSoup\n",
    "import requests\n",
    "\n",
    "url = 'https://shop.glass-express.ua/q3-2011-2018' + \"?user_per_page=48\"\n",
    "page = requests.get(url)\n",
    "\n",
    "blockNames = []\n",
    "blockPrices = []\n",
    "soup = BeautifulSoup(page.text, \"html.parser\")\n",
    "#excel\n",
    "workbook = xlsxwriter.Workbook('result.xlsx')\n",
    "worksheet = workbook.add_worksheet()\n",
    "worksheet.write('A1', \"Name\")\n",
    "worksheet.write('B1', \"Price\")\n",
    "\n",
    "\n",
    "allNames = soup.findAll('a', class_='product-cut__title-link')\n",
    "i = 0\n",
    "for data in allNames:\n",
    "    #a = allNames.index(data)+1\n",
    "    a = i+1\n",
    "    worksheet.write_row(a,0, data)\n",
    "    blockNames.append(data.text)\n",
    "    i += 1   \n",
    "#print(blockNames)\n",
    "\n",
    "allPrices = soup.findAll('span', class_='product-price__item-value')\n",
    "i = 0\n",
    "for data in allPrices:\n",
    "    if data is not None:\n",
    "        #a = allPrices.index(data)+1\n",
    "        a = i+1\n",
    "        worksheet.write_row(a,1, data)\n",
    "        blockPrices.append(data.text)\n",
    "        i += 1\n",
    "    \n",
    "#print(blockPrices)\n",
    "workbook.close()\n"
   ]
  },
  {
   "cell_type": "code",
   "execution_count": null,
   "id": "47fb589d",
   "metadata": {},
   "outputs": [],
   "source": []
  },
  {
   "cell_type": "code",
   "execution_count": null,
   "id": "031abae0",
   "metadata": {},
   "outputs": [],
   "source": [
    "\n",
    " \n",
    "\n",
    "worksheet.write('A1', 'Hello..')\n",
    "worksheet.write('B1', 'Geeks')\n",
    "worksheet.write('C1', 'For')\n",
    "worksheet.write('D1', 'Geeks')\n",
    " \n",
    "# Finally, close the Excel file\n",
    "# via the close() method.\n",
    "workbook.close()"
   ]
  },
  {
   "cell_type": "markdown",
   "id": "2eaa882e",
   "metadata": {},
   "source": []
  },
  {
   "cell_type": "code",
   "execution_count": null,
   "id": "35b779d3",
   "metadata": {},
   "outputs": [],
   "source": []
  },
  {
   "cell_type": "code",
   "execution_count": null,
   "id": "642b086c",
   "metadata": {},
   "outputs": [],
   "source": [
    "\n",
    "'''\n",
    "for child in bs_data.iter():\n",
    "    i = child.tag.find('}')+1\n",
    "    if child.tag[i:] == 'loc':\n",
    "        if child.text.split('/')[3]=='ua':\n",
    "            if child.text.split('/')[4] not in exclusion:\n",
    "                print( child.text)\n",
    "'''"
   ]
  },
  {
   "cell_type": "code",
   "execution_count": null,
   "id": "d2a08b8d",
   "metadata": {},
   "outputs": [],
   "source": []
  },
  {
   "cell_type": "code",
   "execution_count": null,
   "id": "3340c86e",
   "metadata": {},
   "outputs": [],
   "source": [
    "if page2.status_code == 200:\n",
    "    print('Web site exists')\n",
    "else:\n",
    "    print('Web site does not exist') "
   ]
  },
  {
   "cell_type": "code",
   "execution_count": null,
   "id": "8065f0c5",
   "metadata": {},
   "outputs": [],
   "source": []
  },
  {
   "cell_type": "code",
   "execution_count": null,
   "id": "2c2d05e8",
   "metadata": {},
   "outputs": [],
   "source": []
  },
  {
   "cell_type": "code",
   "execution_count": null,
   "id": "3e6aa655",
   "metadata": {},
   "outputs": [],
   "source": []
  }
 ],
 "metadata": {
  "kernelspec": {
   "display_name": "Python 3 (ipykernel)",
   "language": "python",
   "name": "python3"
  },
  "language_info": {
   "codemirror_mode": {
    "name": "ipython",
    "version": 3
   },
   "file_extension": ".py",
   "mimetype": "text/x-python",
   "name": "python",
   "nbconvert_exporter": "python",
   "pygments_lexer": "ipython3",
   "version": "3.7.16"
  }
 },
 "nbformat": 4,
 "nbformat_minor": 5
}
