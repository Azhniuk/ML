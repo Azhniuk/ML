{
 "cells": [
  {
   "cell_type": "code",
   "execution_count": 2,
   "id": "612e3a6a",
   "metadata": {},
   "outputs": [],
   "source": [
    "from typing import Union\n",
    "\n",
    "class CircuitsItem:\n",
    "    def __init__(self, name: str, positive_id: int = 0, negative_id: int = 0, component_value: Union[float, int] = 0.0):\n",
    "        super(CircuitsItem, self).__init__()\n",
    "        self._name = name\n",
    "        self._positive_id = positive_id\n",
    "        self._negative_id = negative_id\n",
    "        self._component_value = component_value\n",
    "\n",
    "    @property\n",
    "    def name(self):\n",
    "        return self._name\n",
    "\n",
    "    @name.setter\n",
    "    def name(self, new_name: str):\n",
    "        self._name = new_name\n",
    "\n",
    "    @property\n",
    "    def positive_id(self):\n",
    "        return self._positive_id\n",
    "\n",
    "    @positive_id.setter\n",
    "    def positive_id(self, new_index: int):\n",
    "        self._positive_id = new_index\n",
    "\n",
    "    @property\n",
    "    def negative_id(self):\n",
    "        return self._negative_id\n",
    "\n",
    "    @negative_id.setter\n",
    "    def negative_id(self, new_index: int):\n",
    "        self._negative_id = new_index\n",
    "\n",
    "    @property\n",
    "    def component_value(self):\n",
    "        return self._component_value\n",
    "\n",
    "    @component_value.setter\n",
    "    def component_value(self, new_value: Union[float, int]):\n",
    "        self._component_value = new_value\n"
   ]
  },
  {
   "cell_type": "code",
   "execution_count": 3,
   "id": "c8583b59",
   "metadata": {},
   "outputs": [
    {
     "name": "stderr",
     "output_type": "stream",
     "text": [
      "UsageError: Line magic function `%pytest` not found.\n"
     ]
    }
   ],
   "source": [
    "%pytest"
   ]
  },
  {
   "cell_type": "code",
   "execution_count": null,
   "id": "8cca7b6c",
   "metadata": {},
   "outputs": [],
   "source": []
  }
 ],
 "metadata": {
  "kernelspec": {
   "display_name": "Python 3 (ipykernel)",
   "language": "python",
   "name": "python3"
  },
  "language_info": {
   "codemirror_mode": {
    "name": "ipython",
    "version": 3
   },
   "file_extension": ".py",
   "mimetype": "text/x-python",
   "name": "python",
   "nbconvert_exporter": "python",
   "pygments_lexer": "ipython3",
   "version": "3.7.16"
  }
 },
 "nbformat": 4,
 "nbformat_minor": 5
}
