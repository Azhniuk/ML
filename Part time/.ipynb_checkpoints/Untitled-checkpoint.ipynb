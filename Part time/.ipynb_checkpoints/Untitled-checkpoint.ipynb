{
 "cells": [
  {
   "cell_type": "code",
   "execution_count": 9,
   "id": "c591874b",
   "metadata": {},
   "outputs": [
    {
     "name": "stdout",
     "output_type": "stream",
     "text": [
      "1/1 [==============================] - 0s 58ms/step\n",
      "It is plastic\n"
     ]
    }
   ],
   "source": [
    "import numpy as np\n",
    "\n",
    "#from google.colab import files\n",
    "from tensorflow.keras.utils import load_img, img_to_array\n",
    "\n",
    "path = 'paper.jpg'\n",
    "img=load_img(path, target_size=(150, 150))\n",
    "\n",
    "x=img_to_array(img)\n",
    "x /= 255\n",
    "x=np.expand_dims(x, axis=0)\n",
    "images = np.vstack([x])\n",
    "    \n",
    "classes = model.predict(images, batch_size=10)\n",
    "np.set_printoptions(suppress = True)\n",
    "  # print(classes[0])\n",
    "  # print(np.argmax(classes[0]))\n",
    "print(\"It is\", labels[np.argmax(classes[0])])\n",
    "\n",
    "# for fn in uploaded.keys():\n",
    "#     path='/content/' + fn\n",
    "#     img=load_img(path, target_size=(150, 150))\n",
    "#     x=img_to_array(img)\n",
    "#     x /= 255\n",
    "#     x=np.expand_dims(x, axis=0)\n",
    "#     images = np.vstack([x])\n",
    "    \n",
    "#     classes = model.predict(images, batch_size=10)\n",
    "#     np.set_printoptions(suppress = True)\n",
    "#   # print(classes[0])\n",
    "#   # print(np.argmax(classes[0]))\n",
    "#     print(\"It is\", labels[np.argmax(classes[0])])"
   ]
  },
  {
   "cell_type": "code",
   "execution_count": 8,
   "id": "13919393",
   "metadata": {
    "scrolled": true
   },
   "outputs": [],
   "source": [
    " labels = ['cardboard', 'glass', 'metal', 'paper', 'plastic', 'trash']\n"
   ]
  },
  {
   "cell_type": "code",
   "execution_count": 4,
   "id": "2a97f37c",
   "metadata": {},
   "outputs": [],
   "source": [
    "import tensorflow.keras as keras\n",
    "model = keras.models.load_model('model/my_model.h5', compile=False)"
   ]
  },
  {
   "cell_type": "code",
   "execution_count": 5,
   "id": "d140b85b",
   "metadata": {},
   "outputs": [
    {
     "data": {
      "text/plain": [
       "<keras.engine.sequential.Sequential at 0x20b5a9a7dc8>"
      ]
     },
     "execution_count": 5,
     "metadata": {},
     "output_type": "execute_result"
    }
   ],
   "source": [
    "model"
   ]
  },
  {
   "cell_type": "code",
   "execution_count": null,
   "id": "22b6f7b9",
   "metadata": {},
   "outputs": [],
   "source": []
  }
 ],
 "metadata": {
  "kernelspec": {
   "display_name": "Python 3 (ipykernel)",
   "language": "python",
   "name": "python3"
  },
  "language_info": {
   "codemirror_mode": {
    "name": "ipython",
    "version": 3
   },
   "file_extension": ".py",
   "mimetype": "text/x-python",
   "name": "python",
   "nbconvert_exporter": "python",
   "pygments_lexer": "ipython3",
   "version": "3.7.16"
  }
 },
 "nbformat": 4,
 "nbformat_minor": 5
}
