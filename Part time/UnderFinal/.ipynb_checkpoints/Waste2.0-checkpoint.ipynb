{
 "cells": [
  {
   "cell_type": "code",
   "execution_count": 2,
   "id": "c591874b",
   "metadata": {},
   "outputs": [
    {
     "name": "stdout",
     "output_type": "stream",
     "text": [
      "1/1 [==============================] - 0s 135ms/step\n",
      "[[0.93487823 0.08057497]]\n"
     ]
    }
   ],
   "source": [
    "import numpy as np\n",
    "from tensorflow.keras.utils import load_img, img_to_array\n",
    "import tensorflow.keras as keras\n",
    "\n",
    "model = keras.models.load_model('model/my_model.h5', compile=False)\n",
    "\n",
    "def result(img_path):\n",
    "    img=load_img(img_path, target_size=(150, 150))\n",
    "    \n",
    "    x=img_to_array(img)\n",
    "    x /= 255\n",
    "    x=np.expand_dims(x, axis=0)    \n",
    "    images = np.vstack([x])\n",
    "    classes = model.predict(images, batch_size=10)\n",
    "    np.set_printoptions(suppress = True)\n",
    "    return(classes)\n",
    "\n",
    "    \n",
    "labels = ['paper', 'plastic']\n",
    "\n",
    "a = result('paper.jpg')\n",
    "print(a)\n"
   ]
  },
  {
   "cell_type": "code",
   "execution_count": 4,
   "id": "2a97f37c",
   "metadata": {
    "scrolled": true
   },
   "outputs": [],
   "source": []
  }
 ],
 "metadata": {
  "kernelspec": {
   "display_name": "Python 3 (ipykernel)",
   "language": "python",
   "name": "python3"
  },
  "language_info": {
   "codemirror_mode": {
    "name": "ipython",
    "version": 3
   },
   "file_extension": ".py",
   "mimetype": "text/x-python",
   "name": "python",
   "nbconvert_exporter": "python",
   "pygments_lexer": "ipython3",
   "version": "3.7.16"
  }
 },
 "nbformat": 4,
 "nbformat_minor": 5
}
