{
 "cells": [
  {
   "cell_type": "markdown",
   "id": "afc71aee",
   "metadata": {},
   "source": [
    "circuitsitem.py containts CircuitsItem class.\n",
    "Task: \n",
    "Write a tests using pytest to determine potential problems in the implementation of the class according to the conditions.\n",
    "Conditions: \n",
    "positive_id, negative_id, component_value attributes must be >= 0\n",
    "positive_id, negative_id, component_value must be the same type as specified in the annotation\n",
    "name must be a string"
   ]
  },
  {
   "cell_type": "code",
   "execution_count": null,
   "id": "613c011e",
   "metadata": {},
   "outputs": [],
   "source": []
  },
  {
   "cell_type": "code",
   "execution_count": null,
   "id": "e2340930",
   "metadata": {},
   "outputs": [],
   "source": []
  }
 ],
 "metadata": {
  "kernelspec": {
   "display_name": "Python 3 (ipykernel)",
   "language": "python",
   "name": "python3"
  },
  "language_info": {
   "codemirror_mode": {
    "name": "ipython",
    "version": 3
   },
   "file_extension": ".py",
   "mimetype": "text/x-python",
   "name": "python",
   "nbconvert_exporter": "python",
   "pygments_lexer": "ipython3",
   "version": "3.7.16"
  }
 },
 "nbformat": 4,
 "nbformat_minor": 5
}
