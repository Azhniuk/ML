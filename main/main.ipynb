{
 "cells": [
  {
   "cell_type": "code",
   "execution_count": 7,
   "id": "76605794",
   "metadata": {},
   "outputs": [],
   "source": [
    "import csv\n",
    "\n",
    "with open('txt.csv', encoding = \"utf8\") as csv_file:\n",
    "    csv_reader = csv.reader(csv_file, delimiter=',')\n",
    "    rows = [row for row in csv_reader]\n",
    "    \n"
   ]
  },
  {
   "cell_type": "code",
   "execution_count": 8,
   "id": "a5447d4f",
   "metadata": {},
   "outputs": [
    {
     "data": {
      "text/plain": [
       "[['id\\ttitle\\tdescription\\tlink\\timage_url\\tavailability\\tavailability_date\\tprice\\tbrand\\tcondition\\tmpn\\tgtin\\tproduct_type\\tgoogle_product_category\\tcustom_label_0\\tcustom_label_1\\tcustom_label_2'],\n",
       " ['920197\\tSachs 3000951408 Комплект сцепления\\tКомплект сцепления. Бренд: Sachs',\n",
       "  ' Страна-производитель: United Kingdom. Категория: Трансмиссия > Сцепление > Комплект сцепления',\n",
       "  ' Каталожный номер: 3000951408. Предложения на Комплект сцепления и его заменители Вы можете найти на сайте https://mriyar.ua/ по самым выгодным ценам Киева и Украины.\\thttps://mriyar.ua/part-sachs-3000951408-920197\\thttps://media.mriyar.ua/media/nomenclature_images/a5/a5c3/a5c3ed44-0879-11eb-84a1-0ab2b29cc152.jpeg\\tin_stock\\t\\t3347 UAH\\tSachs\\tnew\\t3000951408\\t4013872497850\\tТрансмиссия > Сцепление > Комплект сцепления\\t899\\t237\\t589\\t3'],\n",
       " ['8325506\\tHyundai/Kia 0510000441 Масло моторное \\tМасло моторное . Бренд: Hyundai/Kia',\n",
       "  ' Страна-производитель: South Korea. Категория: Масла',\n",
       "  ' жидкости и автохимия > Масло моторное',\n",
       "  ' Каталожный номер: 0510000441. Предложения на Масло моторное  и его заменители Вы можете найти на сайте https://mriyar.ua/ по самым выгодным ценам Киева и Украины.\\thttps://mriyar.ua/part-hyundai-kia-0510000441-8325506\\thttps://media.mriyar.ua/media/nomenclature_images/75/7555/7555f93c-33d5-11ea-bc23-06ac72f5de8c.jpeg\\tin_stock\\t\\t1578.79 UAH\\tHyundai/Kia\\tnew\\t0510000441\\t\"\"\\tМасла',\n",
       "  ' жидкости и автохимия > Масло моторное\\t3044\\t205\\t1234\\t3']]"
      ]
     },
     "execution_count": 8,
     "metadata": {},
     "output_type": "execute_result"
    }
   ],
   "source": [
    "rows[:3]\n"
   ]
  },
  {
   "cell_type": "code",
   "execution_count": 9,
   "id": "4381c92e",
   "metadata": {},
   "outputs": [
    {
     "name": "stdout",
     "output_type": "stream",
     "text": [
      "title\n"
     ]
    }
   ],
   "source": [
    "names = ['id','title','description','link','image_url','availability','availability_date','price','brand','condition','mpn','gtin','product_type','google_product_category','custom_label_0','custom_label_1','custom_label_2']\n",
    "print(names[1])"
   ]
  },
  {
   "cell_type": "code",
   "execution_count": null,
   "id": "7d922398",
   "metadata": {},
   "outputs": [],
   "source": []
  },
  {
   "cell_type": "code",
   "execution_count": null,
   "id": "a52a71e1",
   "metadata": {},
   "outputs": [],
   "source": []
  },
  {
   "cell_type": "code",
   "execution_count": null,
   "id": "7324d3db",
   "metadata": {},
   "outputs": [],
   "source": []
  },
  {
   "cell_type": "markdown",
   "id": "6f334b94",
   "metadata": {},
   "source": [
    " (f'\\t{row[0]} works in the {row[1]} department, and was born in {row[2]}.')"
   ]
  }
 ],
 "metadata": {
  "kernelspec": {
   "display_name": "Python 3 (ipykernel)",
   "language": "python",
   "name": "python3"
  },
  "language_info": {
   "codemirror_mode": {
    "name": "ipython",
    "version": 3
   },
   "file_extension": ".py",
   "mimetype": "text/x-python",
   "name": "python",
   "nbconvert_exporter": "python",
   "pygments_lexer": "ipython3",
   "version": "3.7.16"
  }
 },
 "nbformat": 4,
 "nbformat_minor": 5
}
