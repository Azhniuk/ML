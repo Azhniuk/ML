{
 "cells": [
  {
   "cell_type": "code",
   "execution_count": 10,
   "id": "c79a6b1e",
   "metadata": {},
   "outputs": [],
   "source": [
    "t = \"Alice spoke spoke spoke\""
   ]
  },
  {
   "cell_type": "code",
   "execution_count": 11,
   "id": "1c1ecc43",
   "metadata": {},
   "outputs": [
    {
     "data": {
      "text/plain": [
       "'Alice sang sang spoke'"
      ]
     },
     "execution_count": 11,
     "metadata": {},
     "output_type": "execute_result"
    }
   ],
   "source": [
    "t.replace(\"spoke\", \"sang\", 2)"
   ]
  },
  {
   "cell_type": "code",
   "execution_count": 8,
   "id": "ad2c17d9",
   "metadata": {},
   "outputs": [],
   "source": [
    "y = 15\n",
    "if y<15:\n",
    "    print(0)"
   ]
  },
  {
   "cell_type": "code",
   "execution_count": 9,
   "id": "05014ccb",
   "metadata": {},
   "outputs": [
    {
     "name": "stdout",
     "output_type": "stream",
     "text": [
      "0\n",
      "1\n",
      "2\n",
      "3\n",
      "4\n",
      "5\n"
     ]
    }
   ],
   "source": [
    "for x in range (6):\n",
    "    print(x)"
   ]
  },
  {
   "cell_type": "code",
   "execution_count": 17,
   "id": "59b9029a",
   "metadata": {},
   "outputs": [],
   "source": [
    "a =[101, 102, 103, 104]\n",
    "a+=[110, 111]"
   ]
  },
  {
   "cell_type": "code",
   "execution_count": 16,
   "id": "305dffca",
   "metadata": {},
   "outputs": [
    {
     "name": "stdout",
     "output_type": "stream",
     "text": [
      "<class 'str'>\n"
     ]
    }
   ],
   "source": [
    "print(type(\"food\"))"
   ]
  },
  {
   "cell_type": "code",
   "execution_count": 18,
   "id": "dbf06bc0",
   "metadata": {},
   "outputs": [
    {
     "data": {
      "text/plain": [
       "[103, 104]"
      ]
     },
     "execution_count": 18,
     "metadata": {},
     "output_type": "execute_result"
    }
   ],
   "source": [
    "a[2:4]"
   ]
  },
  {
   "cell_type": "code",
   "execution_count": 19,
   "id": "168118a3",
   "metadata": {},
   "outputs": [
    {
     "data": {
      "text/plain": [
       "[101, 102, 103, 104, 110, 111]"
      ]
     },
     "execution_count": 19,
     "metadata": {},
     "output_type": "execute_result"
    }
   ],
   "source": [
    "a"
   ]
  },
  {
   "cell_type": "code",
   "execution_count": 26,
   "id": "5907552f",
   "metadata": {},
   "outputs": [
    {
     "name": "stdout",
     "output_type": "stream",
     "text": [
      "Riga \n",
      "Riga\n",
      " Riga\n"
     ]
    }
   ],
   "source": [
    "city = \" Riga \"\n",
    "print(city.lstrip())\n",
    "print(city.strip())\n",
    "print(city.rstrip())"
   ]
  },
  {
   "cell_type": "code",
   "execution_count": null,
   "id": "ca45f843",
   "metadata": {},
   "outputs": [],
   "source": []
  }
 ],
 "metadata": {
  "kernelspec": {
   "display_name": "Python 3 (ipykernel)",
   "language": "python",
   "name": "python3"
  },
  "language_info": {
   "codemirror_mode": {
    "name": "ipython",
    "version": 3
   },
   "file_extension": ".py",
   "mimetype": "text/x-python",
   "name": "python",
   "nbconvert_exporter": "python",
   "pygments_lexer": "ipython3",
   "version": "3.7.16"
  }
 },
 "nbformat": 4,
 "nbformat_minor": 5
}
