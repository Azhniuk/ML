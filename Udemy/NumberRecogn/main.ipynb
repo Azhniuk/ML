{
 "cells": [
  {
   "cell_type": "code",
   "execution_count": 1,
   "metadata": {},
   "outputs": [
    {
     "name": "stdout",
     "output_type": "stream",
     "text": [
      "785 42000\n"
     ]
    }
   ],
   "source": [
    "import numpy as np\n",
    "import pandas as pd\n",
    "from matplotlib import pyplot as plt\n",
    "\n",
    "data = pd.read_csv('file:data/train.csv')\n",
    "\n",
    "data = np.array(data)\n",
    "m, n = data.shape       #two values like (2; 3) 2- row 3-col\n",
    "np.random.shuffle(data) # shuffle before splitting into dev and training sets\n",
    "\n",
    "\n",
    "data_dev = data[0:1000].T  #Transpose\n",
    "Y_dev = data_dev[0]\n",
    "X_dev = data_dev[1:n]\n",
    "X_dev = X_dev / 255.\n",
    "\n",
    "data_train = data[1000:m].T\n",
    "Y_train = data_train[0]\n",
    "X_train = data_train[1:n]\n",
    "X_train = X_train / 255.\n",
    "_,m_train = X_train.shape\n",
    "\n"
   ]
  },
  {
   "cell_type": "code",
   "execution_count": null,
   "metadata": {},
   "outputs": [],
   "source": []
  },
  {
   "cell_type": "code",
   "execution_count": 2,
   "metadata": {},
   "outputs": [],
   "source": [
    "def init_params():\n",
    "    W1 = np.random.rand(10, 784) - 0.5\n",
    "    b1 = np.random.rand(10, 1) - 0.5\n",
    "    W2 = np.random.rand(10, 10) - 0.5\n",
    "    b2 = np.random.rand(10, 1) - 0.5\n",
    "    return W1, b1, W2, b2\n",
    "\n",
    "def ReLU(Z):\n",
    "    return np.maximum(Z, 0)\n",
    "\n",
    "def softmax(Z):\n",
    "    A = np.exp(Z) / sum(np.exp(Z))\n",
    "    return A\n",
    "    \n",
    "def forward_prop(W1, b1, W2, b2, X):\n",
    "    Z1 = W1.dot(X) + b1\n",
    "    A1 = ReLU(Z1)\n",
    "    Z2 = W2.dot(A1) + b2\n",
    "    A2 = softmax(Z2)\n",
    "    return Z1, A1, Z2, A2\n",
    "\n",
    "def ReLU_deriv(Z):\n",
    "    return Z > 0\n",
    "\n",
    "def one_hot(Y):\n",
    "    one_hot_Y = np.zeros((Y.size, Y.max() + 1))\n",
    "    one_hot_Y[np.arange(Y.size), Y] = 1\n",
    "    one_hot_Y = one_hot_Y.T\n",
    "    return one_hot_Y\n",
    "\n",
    "def backward_prop(Z1, A1, Z2, A2, W1, W2, X, Y):\n",
    "    one_hot_Y = one_hot(Y)\n",
    "    dZ2 = A2 - one_hot_Y\n",
    "    dW2 = 1 / m * dZ2.dot(A1.T)\n",
    "    db2 = 1 / m * np.sum(dZ2)\n",
    "    dZ1 = W2.T.dot(dZ2) * ReLU_deriv(Z1)\n",
    "    dW1 = 1 / m * dZ1.dot(X.T)\n",
    "    db1 = 1 / m * np.sum(dZ1)\n",
    "    return dW1, db1, dW2, db2\n",
    "\n",
    "def update_params(W1, b1, W2, b2, dW1, db1, dW2, db2, alpha):\n",
    "    W1 = W1 - alpha * dW1\n",
    "    b1 = b1 - alpha * db1    \n",
    "    W2 = W2 - alpha * dW2  \n",
    "    b2 = b2 - alpha * db2    \n",
    "    return W1, b1, W2, b2"
   ]
  },
  {
   "cell_type": "code",
   "execution_count": 3,
   "metadata": {},
   "outputs": [
    {
     "name": "stdout",
     "output_type": "stream",
     "text": [
      "Iteration:  0\n",
      "[0 1 3 ... 2 5 2] [1 3 4 ... 0 2 9]\n",
      "0.13378048780487806\n",
      "Iteration:  10\n",
      "[0 9 3 ... 2 5 9] [1 3 4 ... 0 2 9]\n",
      "0.22653658536585367\n",
      "Iteration:  20\n",
      "[1 5 3 ... 0 5 9] [1 3 4 ... 0 2 9]\n",
      "0.2904390243902439\n",
      "Iteration:  30\n",
      "[1 5 6 ... 0 5 9] [1 3 4 ... 0 2 9]\n",
      "0.3568292682926829\n",
      "Iteration:  40\n",
      "[1 5 4 ... 0 5 9] [1 3 4 ... 0 2 9]\n",
      "0.4220243902439024\n",
      "Iteration:  50\n",
      "[1 5 4 ... 0 6 9] [1 3 4 ... 0 2 9]\n",
      "0.47368292682926827\n",
      "Iteration:  60\n",
      "[1 5 9 ... 0 6 9] [1 3 4 ... 0 2 9]\n",
      "0.5178048780487805\n",
      "Iteration:  70\n",
      "[1 3 8 ... 0 2 9] [1 3 4 ... 0 2 9]\n",
      "0.556609756097561\n",
      "Iteration:  80\n",
      "[1 3 8 ... 0 2 9] [1 3 4 ... 0 2 9]\n",
      "0.586780487804878\n",
      "Iteration:  90\n",
      "[1 3 9 ... 0 2 9] [1 3 4 ... 0 2 9]\n",
      "0.6115365853658536\n",
      "Iteration:  100\n",
      "[1 3 9 ... 0 2 9] [1 3 4 ... 0 2 9]\n",
      "0.6339024390243903\n",
      "Iteration:  110\n",
      "[1 3 9 ... 0 2 9] [1 3 4 ... 0 2 9]\n",
      "0.6541463414634147\n",
      "Iteration:  120\n",
      "[1 3 9 ... 0 2 9] [1 3 4 ... 0 2 9]\n",
      "0.6720731707317074\n",
      "Iteration:  130\n",
      "[1 3 9 ... 0 2 9] [1 3 4 ... 0 2 9]\n",
      "0.687780487804878\n",
      "Iteration:  140\n",
      "[1 3 9 ... 0 2 9] [1 3 4 ... 0 2 9]\n",
      "0.701170731707317\n",
      "Iteration:  150\n",
      "[1 3 9 ... 0 2 9] [1 3 4 ... 0 2 9]\n",
      "0.7133414634146341\n",
      "Iteration:  160\n",
      "[1 3 9 ... 0 2 7] [1 3 4 ... 0 2 9]\n",
      "0.7242195121951219\n",
      "Iteration:  170\n",
      "[1 3 9 ... 0 2 7] [1 3 4 ... 0 2 9]\n",
      "0.7339268292682927\n",
      "Iteration:  180\n",
      "[1 3 9 ... 0 2 7] [1 3 4 ... 0 2 9]\n",
      "0.7431707317073171\n",
      "Iteration:  190\n",
      "[1 3 9 ... 0 2 7] [1 3 4 ... 0 2 9]\n",
      "0.751609756097561\n",
      "Iteration:  200\n",
      "[1 3 9 ... 0 2 7] [1 3 4 ... 0 2 9]\n",
      "0.7578780487804878\n",
      "Iteration:  210\n",
      "[1 3 9 ... 0 2 7] [1 3 4 ... 0 2 9]\n",
      "0.7649512195121951\n",
      "Iteration:  220\n",
      "[1 3 9 ... 0 2 7] [1 3 4 ... 0 2 9]\n",
      "0.770829268292683\n",
      "Iteration:  230\n",
      "[1 3 9 ... 0 2 7] [1 3 4 ... 0 2 9]\n",
      "0.7767804878048781\n",
      "Iteration:  240\n",
      "[1 3 9 ... 0 2 7] [1 3 4 ... 0 2 9]\n",
      "0.7819756097560976\n",
      "Iteration:  250\n",
      "[1 3 9 ... 0 2 7] [1 3 4 ... 0 2 9]\n",
      "0.7863170731707317\n",
      "Iteration:  260\n",
      "[1 3 9 ... 0 2 7] [1 3 4 ... 0 2 9]\n",
      "0.7903902439024391\n",
      "Iteration:  270\n",
      "[1 3 9 ... 0 2 7] [1 3 4 ... 0 2 9]\n",
      "0.7950243902439025\n",
      "Iteration:  280\n",
      "[1 3 9 ... 0 2 7] [1 3 4 ... 0 2 9]\n",
      "0.7988536585365854\n",
      "Iteration:  290\n",
      "[1 3 9 ... 0 2 7] [1 3 4 ... 0 2 9]\n",
      "0.8021707317073171\n",
      "Iteration:  300\n",
      "[1 3 9 ... 0 2 7] [1 3 4 ... 0 2 9]\n",
      "0.8049268292682927\n",
      "Iteration:  310\n",
      "[1 3 9 ... 0 2 7] [1 3 4 ... 0 2 9]\n",
      "0.807609756097561\n",
      "Iteration:  320\n",
      "[1 3 9 ... 0 2 7] [1 3 4 ... 0 2 9]\n",
      "0.8106829268292683\n",
      "Iteration:  330\n",
      "[1 3 9 ... 0 2 7] [1 3 4 ... 0 2 9]\n",
      "0.8135853658536585\n",
      "Iteration:  340\n",
      "[1 3 9 ... 0 2 7] [1 3 4 ... 0 2 9]\n",
      "0.8162439024390243\n",
      "Iteration:  350\n",
      "[1 3 9 ... 0 2 7] [1 3 4 ... 0 2 9]\n",
      "0.8191219512195121\n",
      "Iteration:  360\n",
      "[1 3 9 ... 0 2 7] [1 3 4 ... 0 2 9]\n",
      "0.8216341463414634\n",
      "Iteration:  370\n",
      "[1 3 9 ... 0 2 9] [1 3 4 ... 0 2 9]\n",
      "0.8242195121951219\n",
      "Iteration:  380\n",
      "[1 3 9 ... 0 2 9] [1 3 4 ... 0 2 9]\n",
      "0.8263170731707317\n",
      "Iteration:  390\n",
      "[1 3 9 ... 0 2 9] [1 3 4 ... 0 2 9]\n",
      "0.8288780487804878\n",
      "Iteration:  400\n",
      "[1 3 9 ... 0 2 9] [1 3 4 ... 0 2 9]\n",
      "0.8309512195121951\n",
      "Iteration:  410\n",
      "[1 3 9 ... 0 2 9] [1 3 4 ... 0 2 9]\n",
      "0.8330731707317073\n",
      "Iteration:  420\n",
      "[1 3 9 ... 0 2 9] [1 3 4 ... 0 2 9]\n",
      "0.8348536585365853\n",
      "Iteration:  430\n",
      "[1 3 9 ... 0 2 9] [1 3 4 ... 0 2 9]\n",
      "0.8367073170731707\n",
      "Iteration:  440\n",
      "[1 3 9 ... 0 2 9] [1 3 4 ... 0 2 9]\n",
      "0.8380975609756097\n",
      "Iteration:  450\n",
      "[1 3 9 ... 0 2 9] [1 3 4 ... 0 2 9]\n",
      "0.8397560975609756\n",
      "Iteration:  460\n",
      "[1 3 9 ... 0 2 9] [1 3 4 ... 0 2 9]\n",
      "0.841390243902439\n",
      "Iteration:  470\n",
      "[1 3 9 ... 0 2 9] [1 3 4 ... 0 2 9]\n",
      "0.843\n",
      "Iteration:  480\n",
      "[1 3 9 ... 0 2 9] [1 3 4 ... 0 2 9]\n",
      "0.8443658536585366\n",
      "Iteration:  490\n",
      "[1 3 9 ... 0 2 9] [1 3 4 ... 0 2 9]\n",
      "0.8459024390243902\n"
     ]
    }
   ],
   "source": [
    "def get_predictions(A2):\n",
    "    return np.argmax(A2, 0)\n",
    "\n",
    "def get_accuracy(predictions, Y):\n",
    "    print(predictions, Y)\n",
    "    return np.sum(predictions == Y) / Y.size\n",
    "\n",
    "def gradient_descent(X, Y, alpha, iterations):\n",
    "    W1, b1, W2, b2 = init_params()\n",
    "    for i in range(iterations):\n",
    "        Z1, A1, Z2, A2 = forward_prop(W1, b1, W2, b2, X)\n",
    "        dW1, db1, dW2, db2 = backward_prop(Z1, A1, Z2, A2, W1, W2, X, Y)\n",
    "        W1, b1, W2, b2 = update_params(W1, b1, W2, b2, dW1, db1, dW2, db2, alpha)\n",
    "        if i % 10 == 0:\n",
    "            print(\"Iteration: \", i)\n",
    "            predictions = get_predictions(A2)\n",
    "            print(get_accuracy(predictions, Y))\n",
    "    return W1, b1, W2, b2\n",
    "\n",
    "W1, b1, W2, b2 = gradient_descent(X_train, Y_train, 0.10, 500)"
   ]
  },
  {
   "cell_type": "code",
   "execution_count": 4,
   "metadata": {},
   "outputs": [],
   "source": [
    "def make_predictions(X, W1, b1, W2, b2):\n",
    "    _, _, _, A2 = forward_prop(W1, b1, W2, b2, X)\n",
    "    predictions = get_predictions(A2)\n",
    "    return predictions\n",
    "\n",
    "def test_prediction(index, W1, b1, W2, b2):\n",
    "    current_image = X_train[:, index, None]\n",
    "    prediction = make_predictions(X_train[:, index, None], W1, b1, W2, b2)\n",
    "    label = Y_train[index]\n",
    "    print(\"Prediction: \", prediction)\n",
    "    print(\"Label: \", label)\n",
    "    \n",
    "    current_image = current_image.reshape((28, 28)) * 255\n",
    "    plt.gray()\n",
    "    plt.imshow(current_image, interpolation='nearest')\n",
    "    plt.show()"
   ]
  },
  {
   "cell_type": "code",
   "execution_count": 5,
   "metadata": {},
   "outputs": [
    {
     "name": "stdout",
     "output_type": "stream",
     "text": [
      "Prediction:  [1]\n",
      "Label:  1\n"
     ]
    },
    {
     "data": {
      "image/png": "[encoded data removed]",
      "text/plain": [
       "<Figure size 432x288 with 1 Axes>"
      ]
     },
     "metadata": {
      "needs_background": "light"
     },
     "output_type": "display_data"
    },
    {
     "name": "stdout",
     "output_type": "stream",
     "text": [
      "Prediction:  [3]\n",
      "Label:  3\n"
     ]
    },
    {
     "data": {
      "image/png": "[encoded data removed]",
      "text/plain": [
       "<Figure size 432x288 with 1 Axes>"
      ]
     },
     "metadata": {
      "needs_background": "light"
     },
     "output_type": "display_data"
    },
    {
     "name": "stdout",
     "output_type": "stream",
     "text": [
      "Prediction:  [9]\n",
      "Label:  4\n"
     ]
    },
    {
     "data": {
      "image/png": "[encoded data removed]",
      "text/plain": [
       "<Figure size 432x288 with 1 Axes>"
      ]
     },
     "metadata": {
      "needs_background": "light"
     },
     "output_type": "display_data"
    },
    {
     "name": "stdout",
     "output_type": "stream",
     "text": [
      "Prediction:  [1]\n",
      "Label:  1\n"
     ]
    },
    {
     "data": {
      "image/png": "[encoded data removed]",
      "text/plain": [
       "<Figure size 432x288 with 1 Axes>"
      ]
     },
     "metadata": {
      "needs_background": "light"
     },
     "output_type": "display_data"
    }
   ],
   "source": [
    "test_prediction(0, W1, b1, W2, b2)\n",
    "test_prediction(1, W1, b1, W2, b2)\n",
    "test_prediction(2, W1, b1, W2, b2)\n",
    "test_prediction(3, W1, b1, W2, b2)"
   ]
  },
  {
   "cell_type": "code",
   "execution_count": null,
   "metadata": {},
   "outputs": [],
   "source": []
  }
 ],
 "metadata": {
  "kernelspec": {
   "display_name": "Python 3",
   "language": "python",
   "name": "python3"
  },
  "language_info": {
   "codemirror_mode": {
    "name": "ipython",
    "version": 3
   },
   "file_extension": ".py",
   "mimetype": "text/x-python",
   "name": "python",
   "nbconvert_exporter": "python",
   "pygments_lexer": "ipython3",
   "version": "3.7.6"
  }
 },
 "nbformat": 4,
 "nbformat_minor": 4
}
