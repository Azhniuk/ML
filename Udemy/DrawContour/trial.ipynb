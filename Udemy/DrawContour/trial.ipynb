{
 "cells": [
  {
   "cell_type": "markdown",
   "metadata": {},
   "source": [
    "# Define the contour of given image"
   ]
  },
  {
   "cell_type": "code",
   "execution_count": 5,
   "metadata": {},
   "outputs": [],
   "source": [
    "import cv2 \n",
    "from matplotlib import pyplot as plt\n",
    "import numpy as np\n",
    "\n",
    "image = cv2.imread(\"photo.jpg\")\n",
    "image = cv2.resize(image, (500,500))  #resize\n",
    "imageGray = cv2.cvtColor (image, cv2.COLOR_BGR2GRAY)     # Є ще cv2.COLOR_BGR2RGB  - convert to RGB\n",
    "\n",
    "#estimatedThreshold, imageThreshold =cv2.threshold(imageGray,50,255,cv2.THRESH_BINARY|cv2.THRESH_OTSU) #1\n",
    "estimatedThreshold, imageThreshold = cv2.threshold(imageGray,90,255,cv2.THRESH_BINARY) #2\n",
    "\n",
    "\n",
    "#SHOW THRESHOLD IMAGE\n",
    "#cv2.imshow('Image', imageThreshold)\n",
    "#cv2.waitKey(0)\n",
    "#cv2.destroyAllWindows()\n"
   ]
  },
  {
   "cell_type": "code",
   "execution_count": null,
   "metadata": {},
   "outputs": [],
   "source": [
    "# PLOT HISTOGRAM OF THRESHOLDED AND GRAYSCALE IMAGES\n",
    "\"\"\"\n",
    "plt.figure(figsize=(14, 12))\n",
    "plt.subplot(2,2,1), plt.imshow(imageGray,'gray'), plt.title('Grayscale Image')\n",
    "plt.subplot(2,2,2), plt.hist(imageGray.ravel(), 256), plt.title('Color Histogram of Grayscale Image')\n",
    "plt.subplot(2,2,3), plt.imshow(imageThreshold,'gray'), plt.title('Binary (Thresholded)  Image')\n",
    "plt.subplot(2,2,4), plt.hist(imageThreshold.ravel(),256), plt.title('Color Histogram of Binary (Thresholded) Image')\n",
    "plt.savefig('fig1.png')\n",
    "plt.show()\"\"\""
   ]
  },
  {
   "cell_type": "code",
   "execution_count": 3,
   "metadata": {},
   "outputs": [],
   "source": [
    "## DETERMINE CONTOURS AND FILTER THEM\n",
    "contours, hierarchy = cv2.findContours(imageThreshold,cv2.RETR_CCOMP,cv2.CHAIN_APPROX_SIMPLE)\n",
    " \n",
    "imageCopy = np.copy(image)\n",
    " \n",
    "# draw all contours with setting the parameter to -1\n",
    "# but if you use this function, you should comment the for loop below\n",
    "#cv2.drawContours(resizedImageCopy,contours,-1,(0,0,255),2)\n",
    "#filter contours \n",
    "for i, c in enumerate(contours):\n",
    "    areaContour=cv2.contourArea(c)\n",
    "    if areaContour<2000 or 100000<areaContour:\n",
    "        continue\n",
    "    cv2.drawContours(imageCopy,contours,i,(255,10,255),4)\n",
    "     \n",
    "# display the original image with contours\n",
    "cv2.imshow('Image', imageCopy)\n",
    "cv2.waitKey(0)\n",
    "cv2.destroyAllWindows()\n",
    "#cv2.imwrite(\"resizedPartsContours.png\", imageCopy, [cv2.IMWRITE_PNG_COMPRESSION, 0]) \n"
   ]
  },
  {
   "cell_type": "code",
   "execution_count": null,
   "metadata": {},
   "outputs": [],
   "source": []
  },
  {
   "cell_type": "code",
   "execution_count": null,
   "metadata": {},
   "outputs": [],
   "source": [
    "#save image\n",
    "cv2.imwrite(\"resizedPartsGray.png\", grayImage, [cv2.IMWRITE_PNG_COMPRESSION, 0]) \n",
    "\n",
    "\n"
   ]
  },
  {
   "cell_type": "code",
   "execution_count": null,
   "metadata": {},
   "outputs": [],
   "source": [
    "\n"
   ]
  },
  {
   "cell_type": "markdown",
   "metadata": {},
   "source": [
    "#### <a href = \"https://aleksandarhaber.com/contour-detection-in-opencv-python-opencv-tutorial-in-python/\">Main reference</a> "
   ]
  },
  {
   "cell_type": "code",
   "execution_count": null,
   "metadata": {},
   "outputs": [],
   "source": []
  }
 ],
 "metadata": {
  "kernelspec": {
   "display_name": "Python 3",
   "language": "python",
   "name": "python3"
  },
  "language_info": {
   "codemirror_mode": {
    "name": "ipython",
    "version": 3
   },
   "file_extension": ".py",
   "mimetype": "text/x-python",
   "name": "python",
   "nbconvert_exporter": "python",
   "pygments_lexer": "ipython3",
   "version": "3.7.6"
  }
 },
 "nbformat": 4,
 "nbformat_minor": 4
}
