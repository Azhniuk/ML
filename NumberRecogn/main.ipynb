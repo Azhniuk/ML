{
 "cells": [
  {
   "cell_type": "code",
   "execution_count": 42,
   "metadata": {},
   "outputs": [
    {
     "name": "stdout",
     "output_type": "stream",
     "text": [
      "785 42000\n"
     ]
    }
   ],
   "source": [
    "import numpy as np\n",
    "import pandas as pd\n",
    "from matplotlib import pyplot as plt\n",
    "\n",
    "data = pd.read_csv('file:data/train.csv')\n",
    "\n",
    "data = np.array(data)\n",
    "m, n = data.shape       #two values like (2; 3) 2- row 3-col\n",
    "print(n, m)\n",
    "np.random.shuffle(data) # shuffle before splitting into dev and training sets\n",
    "\n",
    "\n",
    "data_dev = data[0:1000].T\n",
    "Y_dev = data_dev[0]\n",
    "X_dev = data_dev[1:n]\n",
    "X_dev = X_dev / 255.\n",
    "\n",
    "data_train = data[1000:m].T\n",
    "Y_train = data_train[0]\n",
    "X_train = data_train[1:n]\n",
    "X_train = X_train / 255.\n",
    "_,m_train = X_train.shape\n",
    "\n"
   ]
  },
  {
   "cell_type": "code",
   "execution_count": null,
   "metadata": {},
   "outputs": [],
   "source": []
  },
  {
   "cell_type": "code",
   "execution_count": 35,
   "metadata": {},
   "outputs": [],
   "source": [
    "def init_params():\n",
    "    W1 = np.random.rand(10, 784) - 0.5\n",
    "    b1 = np.random.rand(10, 1) - 0.5\n",
    "    W2 = np.random.rand(10, 10) - 0.5\n",
    "    b2 = np.random.rand(10, 1) - 0.5\n",
    "    return W1, b1, W2, b2\n",
    "\n",
    "def ReLU(Z):\n",
    "    return np.maximum(Z, 0)\n",
    "\n",
    "def softmax(Z):\n",
    "    A = np.exp(Z) / sum(np.exp(Z))\n",
    "    return A\n",
    "    \n",
    "def forward_prop(W1, b1, W2, b2, X):\n",
    "    Z1 = W1.dot(X) + b1\n",
    "    A1 = ReLU(Z1)\n",
    "    Z2 = W2.dot(A1) + b2\n",
    "    A2 = softmax(Z2)\n",
    "    return Z1, A1, Z2, A2\n",
    "\n",
    "def ReLU_deriv(Z):\n",
    "    return Z > 0\n",
    "\n",
    "def one_hot(Y):\n",
    "    one_hot_Y = np.zeros((Y.size, Y.max() + 1))\n",
    "    one_hot_Y[np.arange(Y.size), Y] = 1\n",
    "    one_hot_Y = one_hot_Y.T\n",
    "    return one_hot_Y\n",
    "\n",
    "def backward_prop(Z1, A1, Z2, A2, W1, W2, X, Y):\n",
    "    one_hot_Y = one_hot(Y)\n",
    "    dZ2 = A2 - one_hot_Y\n",
    "    dW2 = 1 / m * dZ2.dot(A1.T)\n",
    "    db2 = 1 / m * np.sum(dZ2)\n",
    "    dZ1 = W2.T.dot(dZ2) * ReLU_deriv(Z1)\n",
    "    dW1 = 1 / m * dZ1.dot(X.T)\n",
    "    db1 = 1 / m * np.sum(dZ1)\n",
    "    return dW1, db1, dW2, db2\n",
    "\n",
    "def update_params(W1, b1, W2, b2, dW1, db1, dW2, db2, alpha):\n",
    "    W1 = W1 - alpha * dW1\n",
    "    b1 = b1 - alpha * db1    \n",
    "    W2 = W2 - alpha * dW2  \n",
    "    b2 = b2 - alpha * db2    \n",
    "    return W1, b1, W2, b2"
   ]
  },
  {
   "cell_type": "code",
   "execution_count": 30,
   "metadata": {},
   "outputs": [
    {
     "name": "stdout",
     "output_type": "stream",
     "text": [
      "Iteration:  0\n",
      "[2 0 4 ... 8 0 4] [2 6 5 ... 8 6 6]\n",
      "0.12039024390243902\n",
      "Iteration:  10\n",
      "[2 0 5 ... 8 0 3] [2 6 5 ... 8 6 6]\n",
      "0.25353658536585366\n",
      "Iteration:  20\n",
      "[2 0 5 ... 8 0 3] [2 6 5 ... 8 6 6]\n",
      "0.3620243902439024\n",
      "Iteration:  30\n",
      "[2 0 5 ... 8 0 1] [2 6 5 ... 8 6 6]\n",
      "0.4385121951219512\n",
      "Iteration:  40\n",
      "[2 0 5 ... 8 0 1] [2 6 5 ... 8 6 6]\n",
      "0.5051707317073171\n",
      "Iteration:  50\n",
      "[2 0 5 ... 8 0 1] [2 6 5 ... 8 6 6]\n",
      "0.5580731707317074\n",
      "Iteration:  60\n",
      "[2 6 3 ... 8 0 1] [2 6 5 ... 8 6 6]\n",
      "0.6035853658536585\n",
      "Iteration:  70\n",
      "[2 6 5 ... 8 0 1] [2 6 5 ... 8 6 6]\n",
      "0.6390975609756098\n",
      "Iteration:  80\n",
      "[2 6 5 ... 8 0 1] [2 6 5 ... 8 6 6]\n",
      "0.6659024390243903\n",
      "Iteration:  90\n",
      "[2 6 5 ... 8 0 1] [2 6 5 ... 8 6 6]\n",
      "0.6892439024390243\n",
      "Iteration:  100\n",
      "[2 6 5 ... 8 0 1] [2 6 5 ... 8 6 6]\n",
      "0.7081219512195122\n",
      "Iteration:  110\n",
      "[2 6 5 ... 8 0 1] [2 6 5 ... 8 6 6]\n",
      "0.7234634146341463\n",
      "Iteration:  120\n",
      "[2 6 5 ... 8 0 1] [2 6 5 ... 8 6 6]\n",
      "0.7360243902439024\n",
      "Iteration:  130\n",
      "[2 6 5 ... 8 0 1] [2 6 5 ... 8 6 6]\n",
      "0.7477560975609756\n",
      "Iteration:  140\n",
      "[2 6 5 ... 8 0 1] [2 6 5 ... 8 6 6]\n",
      "0.758219512195122\n",
      "Iteration:  150\n",
      "[2 6 5 ... 8 0 1] [2 6 5 ... 8 6 6]\n",
      "0.7678048780487805\n",
      "Iteration:  160\n",
      "[2 6 5 ... 8 0 1] [2 6 5 ... 8 6 6]\n",
      "0.775609756097561\n",
      "Iteration:  170\n",
      "[2 6 5 ... 8 0 1] [2 6 5 ... 8 6 6]\n",
      "0.7822926829268293\n",
      "Iteration:  180\n",
      "[2 6 5 ... 8 0 1] [2 6 5 ... 8 6 6]\n",
      "0.7890975609756098\n",
      "Iteration:  190\n",
      "[2 6 5 ... 8 0 1] [2 6 5 ... 8 6 6]\n",
      "0.7945609756097561\n",
      "Iteration:  200\n",
      "[2 6 5 ... 8 0 1] [2 6 5 ... 8 6 6]\n",
      "0.7995365853658537\n",
      "Iteration:  210\n",
      "[2 6 5 ... 5 0 1] [2 6 5 ... 8 6 6]\n",
      "0.804219512195122\n",
      "Iteration:  220\n",
      "[2 6 5 ... 5 0 1] [2 6 5 ... 8 6 6]\n",
      "0.8089512195121952\n",
      "Iteration:  230\n",
      "[2 6 5 ... 5 0 1] [2 6 5 ... 8 6 6]\n",
      "0.8127560975609756\n",
      "Iteration:  240\n",
      "[2 6 5 ... 5 0 1] [2 6 5 ... 8 6 6]\n",
      "0.816390243902439\n",
      "Iteration:  250\n",
      "[2 6 5 ... 5 0 1] [2 6 5 ... 8 6 6]\n",
      "0.8199268292682926\n",
      "Iteration:  260\n",
      "[2 6 5 ... 5 0 1] [2 6 5 ... 8 6 6]\n",
      "0.8232439024390243\n",
      "Iteration:  270\n",
      "[2 6 5 ... 5 0 1] [2 6 5 ... 8 6 6]\n",
      "0.8269756097560975\n",
      "Iteration:  280\n",
      "[2 6 5 ... 5 0 1] [2 6 5 ... 8 6 6]\n",
      "0.8298780487804878\n",
      "Iteration:  290\n",
      "[2 6 5 ... 5 0 1] [2 6 5 ... 8 6 6]\n",
      "0.8323170731707317\n",
      "Iteration:  300\n",
      "[2 6 5 ... 5 0 1] [2 6 5 ... 8 6 6]\n",
      "0.8346829268292683\n",
      "Iteration:  310\n",
      "[2 6 5 ... 5 0 1] [2 6 5 ... 8 6 6]\n",
      "0.8372195121951219\n",
      "Iteration:  320\n",
      "[2 6 5 ... 5 0 1] [2 6 5 ... 8 6 6]\n",
      "0.8392682926829268\n",
      "Iteration:  330\n",
      "[2 6 5 ... 5 0 1] [2 6 5 ... 8 6 6]\n",
      "0.8417560975609756\n",
      "Iteration:  340\n",
      "[2 6 5 ... 5 0 1] [2 6 5 ... 8 6 6]\n",
      "0.8436585365853658\n",
      "Iteration:  350\n",
      "[2 6 5 ... 5 0 1] [2 6 5 ... 8 6 6]\n",
      "0.845780487804878\n",
      "Iteration:  360\n",
      "[2 6 5 ... 5 0 1] [2 6 5 ... 8 6 6]\n",
      "0.8472926829268292\n",
      "Iteration:  370\n",
      "[2 6 5 ... 5 0 1] [2 6 5 ... 8 6 6]\n",
      "0.8484634146341463\n",
      "Iteration:  380\n",
      "[2 6 5 ... 5 0 1] [2 6 5 ... 8 6 6]\n",
      "0.8504146341463414\n",
      "Iteration:  390\n",
      "[2 6 5 ... 5 0 1] [2 6 5 ... 8 6 6]\n",
      "0.8520975609756097\n",
      "Iteration:  400\n",
      "[2 6 5 ... 5 0 1] [2 6 5 ... 8 6 6]\n",
      "0.8535609756097561\n",
      "Iteration:  410\n",
      "[2 6 5 ... 5 0 1] [2 6 5 ... 8 6 6]\n",
      "0.8544146341463414\n",
      "Iteration:  420\n",
      "[2 6 5 ... 5 0 1] [2 6 5 ... 8 6 6]\n",
      "0.8559268292682927\n",
      "Iteration:  430\n",
      "[2 6 5 ... 5 0 1] [2 6 5 ... 8 6 6]\n",
      "0.8571951219512195\n",
      "Iteration:  440\n",
      "[2 6 5 ... 5 0 1] [2 6 5 ... 8 6 6]\n",
      "0.858390243902439\n",
      "Iteration:  450\n",
      "[2 6 5 ... 5 0 1] [2 6 5 ... 8 6 6]\n",
      "0.8595853658536585\n",
      "Iteration:  460\n",
      "[2 6 5 ... 5 0 1] [2 6 5 ... 8 6 6]\n",
      "0.8607317073170732\n",
      "Iteration:  470\n",
      "[2 6 5 ... 5 0 1] [2 6 5 ... 8 6 6]\n",
      "0.861780487804878\n",
      "Iteration:  480\n",
      "[2 6 5 ... 5 0 1] [2 6 5 ... 8 6 6]\n",
      "0.8629024390243902\n",
      "Iteration:  490\n",
      "[2 6 5 ... 5 0 1] [2 6 5 ... 8 6 6]\n",
      "0.8635609756097561\n"
     ]
    }
   ],
   "source": [
    "def get_predictions(A2):\n",
    "    return np.argmax(A2, 0)\n",
    "\n",
    "def get_accuracy(predictions, Y):\n",
    "    print(predictions, Y)\n",
    "    return np.sum(predictions == Y) / Y.size\n",
    "\n",
    "def gradient_descent(X, Y, alpha, iterations):\n",
    "    W1, b1, W2, b2 = init_params()\n",
    "    for i in range(iterations):\n",
    "        Z1, A1, Z2, A2 = forward_prop(W1, b1, W2, b2, X)\n",
    "        dW1, db1, dW2, db2 = backward_prop(Z1, A1, Z2, A2, W1, W2, X, Y)\n",
    "        W1, b1, W2, b2 = update_params(W1, b1, W2, b2, dW1, db1, dW2, db2, alpha)\n",
    "        if i % 10 == 0:\n",
    "            print(\"Iteration: \", i)\n",
    "            predictions = get_predictions(A2)\n",
    "            print(get_accuracy(predictions, Y))\n",
    "    return W1, b1, W2, b2\n",
    "\n",
    "W1, b1, W2, b2 = gradient_descent(X_train, Y_train, 0.10, 500)"
   ]
  },
  {
   "cell_type": "code",
   "execution_count": 31,
   "metadata": {},
   "outputs": [],
   "source": [
    "def make_predictions(X, W1, b1, W2, b2):\n",
    "    _, _, _, A2 = forward_prop(W1, b1, W2, b2, X)\n",
    "    predictions = get_predictions(A2)\n",
    "    return predictions\n",
    "\n",
    "def test_prediction(index, W1, b1, W2, b2):\n",
    "    current_image = X_train[:, index, None]\n",
    "    prediction = make_predictions(X_train[:, index, None], W1, b1, W2, b2)\n",
    "    label = Y_train[index]\n",
    "    print(\"Prediction: \", prediction)\n",
    "    print(\"Label: \", label)\n",
    "    \n",
    "    current_image = current_image.reshape((28, 28)) * 255\n",
    "    plt.gray()\n",
    "    plt.imshow(current_image, interpolation='nearest')\n",
    "    plt.show()"
   ]
  },
  {
   "cell_type": "code",
   "execution_count": 32,
   "metadata": {},
   "outputs": [
    {
     "name": "stdout",
     "output_type": "stream",
     "text": [
      "Prediction:  [2]\n",
      "Label:  2\n"
     ]
    },
    {
     "data": {
      "image/png": "[encoded data removed]",
      "text/plain": [
       "<Figure size 432x288 with 1 Axes>"
      ]
     },
     "metadata": {
      "needs_background": "light"
     },
     "output_type": "display_data"
    },
    {
     "name": "stdout",
     "output_type": "stream",
     "text": [
      "Prediction:  [6]\n",
      "Label:  6\n"
     ]
    },
    {
     "data": {
      "image/png": "[encoded data removed]",
      "text/plain": [
       "<Figure size 432x288 with 1 Axes>"
      ]
     },
     "metadata": {
      "needs_background": "light"
     },
     "output_type": "display_data"
    },
    {
     "name": "stdout",
     "output_type": "stream",
     "text": [
      "Prediction:  [5]\n",
      "Label:  5\n"
     ]
    },
    {
     "data": {
      "image/png": "[encoded data removed]",
      "text/plain": [
       "<Figure size 432x288 with 1 Axes>"
      ]
     },
     "metadata": {
      "needs_background": "light"
     },
     "output_type": "display_data"
    },
    {
     "name": "stdout",
     "output_type": "stream",
     "text": [
      "Prediction:  [2]\n",
      "Label:  2\n"
     ]
    },
    {
     "data": {
      "image/png": "[encoded data removed]",
      "text/plain": [
       "<Figure size 432x288 with 1 Axes>"
      ]
     },
     "metadata": {
      "needs_background": "light"
     },
     "output_type": "display_data"
    }
   ],
   "source": [
    "test_prediction(0, W1, b1, W2, b2)\n",
    "test_prediction(1, W1, b1, W2, b2)\n",
    "test_prediction(2, W1, b1, W2, b2)\n",
    "test_prediction(3, W1, b1, W2, b2)"
   ]
  },
  {
   "cell_type": "code",
   "execution_count": null,
   "metadata": {},
   "outputs": [],
   "source": []
  }
 ],
 "metadata": {
  "kernelspec": {
   "display_name": "Python 3",
   "language": "python",
   "name": "python3"
  },
  "language_info": {
   "codemirror_mode": {
    "name": "ipython",
    "version": 3
   },
   "file_extension": ".py",
   "mimetype": "text/x-python",
   "name": "python",
   "nbconvert_exporter": "python",
   "pygments_lexer": "ipython3",
   "version": "3.7.6"
  }
 },
 "nbformat": 4,
 "nbformat_minor": 4
}
