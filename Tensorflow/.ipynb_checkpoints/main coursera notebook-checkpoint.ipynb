{
 "cells": [
  {
   "cell_type": "markdown",
   "id": "ce261830",
   "metadata": {},
   "source": [
    "### Easiest model\n",
    "#### типу linear regression"
   ]
  },
  {
   "cell_type": "code",
   "execution_count": 1,
   "id": "fbe2ca99",
   "metadata": {},
   "outputs": [],
   "source": [
    "import tensorflow as tf\n",
    "import numpy as np"
   ]
  },
  {
   "cell_type": "code",
   "execution_count": 2,
   "id": "1d885135",
   "metadata": {},
   "outputs": [],
   "source": [
    "def house_model():\n",
    "    #define x y\n",
    "    xs = [_ for _ in range(1,10)]\n",
    "    ys = [0.5+0.5*_ for _ in range(1,10)]\n",
    "    \n",
    "    #createa layer\n",
    "    model = tf.keras.Sequential([tf.keras.layers.Dense(units=1, input_shape=[1])])\n",
    "    \n",
    "    model.compile(optimizer='sgd', loss='mean_squared_error')\n",
    "    \n",
    "    model.fit(xs, ys, epochs=1000)\n",
    "    \n",
    "    return model"
   ]
  },
  {
   "cell_type": "code",
   "execution_count": null,
   "id": "de00b9a1",
   "metadata": {},
   "outputs": [],
   "source": [
    "model = house_model()"
   ]
  },
  {
   "cell_type": "code",
   "execution_count": 6,
   "id": "85f58f66",
   "metadata": {},
   "outputs": [
    {
     "name": "stdout",
     "output_type": "stream",
     "text": [
      "1/1 [==============================] - 0s 34ms/step\n",
      "[5.506509]\n"
     ]
    }
   ],
   "source": [
    "new_x = 10.0\n",
    "prediction = model.predict([new_x])[0]\n",
    "print(prediction)"
   ]
  },
  {
   "cell_type": "markdown",
   "id": "cd4d83bb",
   "metadata": {},
   "source": [
    "### Розархівація"
   ]
  },
  {
   "cell_type": "code",
   "execution_count": null,
   "id": "25a8266f",
   "metadata": {},
   "outputs": [],
   "source": [
    "with ZipFile('../content/drive/MyDrive/GlassMetal.zip', 'r') as zip:\n",
    "    zip.extractall()\n",
    "    \n",
    "    \n",
    "    \n",
    "with py7zr.SevenZipFile('../content/drive/MyDrive/UnSortedWaste.7z', mode='r') as z:\n",
    "    z.extractall()"
   ]
  },
  {
   "cell_type": "code",
   "execution_count": null,
   "id": "1e5c02d6",
   "metadata": {},
   "outputs": [],
   "source": []
  },
  {
   "cell_type": "code",
   "execution_count": null,
   "id": "ff5dc9c5",
   "metadata": {},
   "outputs": [],
   "source": []
  }
 ],
 "metadata": {
  "kernelspec": {
   "display_name": "Python 3 (ipykernel)",
   "language": "python",
   "name": "python3"
  },
  "language_info": {
   "codemirror_mode": {
    "name": "ipython",
    "version": 3
   },
   "file_extension": ".py",
   "mimetype": "text/x-python",
   "name": "python",
   "nbconvert_exporter": "python",
   "pygments_lexer": "ipython3",
   "version": "3.7.16"
  }
 },
 "nbformat": 4,
 "nbformat_minor": 5
}
