{
 "cells": [
  {
   "cell_type": "code",
   "execution_count": 8,
   "id": "80cc9d7d",
   "metadata": {},
   "outputs": [],
   "source": [
    "from PIL import Image, ImageChops\n",
    "\n",
    "img1 = Image.open(\"1.jpg\")\n",
    "img2 = Image.open(\"2.jpg\")\n",
    "\n",
    "diff = ImageChops.difference(img1, img2)"
   ]
  },
  {
   "cell_type": "code",
   "execution_count": 9,
   "id": "badc039d",
   "metadata": {},
   "outputs": [],
   "source": [
    "if diff.getbbox():\n",
    "    diff.show()"
   ]
  },
  {
   "cell_type": "code",
   "execution_count": null,
   "id": "fad0d274",
   "metadata": {},
   "outputs": [],
   "source": []
  }
 ],
 "metadata": {
  "kernelspec": {
   "display_name": "Python 3 (ipykernel)",
   "language": "python",
   "name": "python3"
  },
  "language_info": {
   "codemirror_mode": {
    "name": "ipython",
    "version": 3
   },
   "file_extension": ".py",
   "mimetype": "text/x-python",
   "name": "python",
   "nbconvert_exporter": "python",
   "pygments_lexer": "ipython3",
   "version": "3.7.16"
  }
 },
 "nbformat": 4,
 "nbformat_minor": 5
}
