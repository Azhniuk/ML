{
  "nbformat": 4,
  "nbformat_minor": 0,
  "metadata": {
    "colab": {
      "provenance": [],
      "gpuType": "T4"
    },
    "kernelspec": {
      "name": "python3",
      "display_name": "Python 3"
    },
    "language_info": {
      "name": "python"
    },
    "accelerator": "GPU"
  },
  "cells": [
    {
      "cell_type": "code",
      "execution_count": 2,
      "metadata": {
        "id": "SzolceaWWDSQ"
      },
      "outputs": [],
      "source": [
        "import os\n",
        "import shutil\n",
        "import numpy as np\n",
        "import pandas as pd\n",
        "import matplotlib.pyplot as plt\n",
        "\n",
        "import tensorflow as tf\n",
        "from tensorflow.keras.preprocessing.image import ImageDataGenerator, load_img\n",
        "from tensorflow.keras.utils import to_categorical\n",
        "\n",
        "import random"
      ]
    },
    {
      "cell_type": "code",
      "source": [
        "WIDTH=150\n",
        "HEIGHT=150\n",
        "IMAGE_SIZE=(WIDTH, HEIGHT)\n",
        "IMAGE_CHANNELS=3\n",
        "batch_size = 50"
      ],
      "metadata": {
        "id": "sUygLm5JWPON"
      },
      "execution_count": 82,
      "outputs": []
    },
    {
      "cell_type": "code",
      "source": [
        "pip install py7zr"
      ],
      "metadata": {
        "id": "b-7ZVvJkWPQu",
        "colab": {
          "base_uri": "https://localhost:8080/"
        },
        "outputId": "3619a568-fdf6-4829-ee24-1f7b911ae493"
      },
      "execution_count": 4,
      "outputs": [
        {
          "output_type": "stream",
          "name": "stdout",
          "text": [
            "Collecting py7zr\n",
            "  Downloading py7zr-0.20.6-py3-none-any.whl (66 kB)\n",
            "\u001b[2K     \u001b[90m━━━━━━━━━━━━━━━━━━━━━━━━━━━━━━━━━━━━━━━\u001b[0m \u001b[32m66.7/66.7 kB\u001b[0m \u001b[31m604.9 kB/s\u001b[0m eta \u001b[36m0:00:00\u001b[0m\n",
            "\u001b[?25hCollecting texttable (from py7zr)\n",
            "  Downloading texttable-1.6.7-py2.py3-none-any.whl (10 kB)\n",
            "Collecting pycryptodomex>=3.6.6 (from py7zr)\n",
            "  Downloading pycryptodomex-3.18.0-cp35-abi3-manylinux_2_17_x86_64.manylinux2014_x86_64.whl (2.1 MB)\n",
            "\u001b[2K     \u001b[90m━━━━━━━━━━━━━━━━━━━━━━━━━━━━━━━━━━━━━━━━\u001b[0m \u001b[32m2.1/2.1 MB\u001b[0m \u001b[31m23.7 MB/s\u001b[0m eta \u001b[36m0:00:00\u001b[0m\n",
            "\u001b[?25hCollecting pyzstd>=0.14.4 (from py7zr)\n",
            "  Downloading pyzstd-0.15.9-cp310-cp310-manylinux_2_17_x86_64.manylinux2014_x86_64.whl (412 kB)\n",
            "\u001b[2K     \u001b[90m━━━━━━━━━━━━━━━━━━━━━━━━━━━━━━━━━━━━━━\u001b[0m \u001b[32m412.3/412.3 kB\u001b[0m \u001b[31m34.9 MB/s\u001b[0m eta \u001b[36m0:00:00\u001b[0m\n",
            "\u001b[?25hCollecting pyppmd<1.1.0,>=0.18.1 (from py7zr)\n",
            "  Downloading pyppmd-1.0.0-cp310-cp310-manylinux_2_17_x86_64.manylinux2014_x86_64.whl (138 kB)\n",
            "\u001b[2K     \u001b[90m━━━━━━━━━━━━━━━━━━━━━━━━━━━━━━━━━━━━━━\u001b[0m \u001b[32m138.8/138.8 kB\u001b[0m \u001b[31m15.5 MB/s\u001b[0m eta \u001b[36m0:00:00\u001b[0m\n",
            "\u001b[?25hCollecting pybcj>=0.6.0 (from py7zr)\n",
            "  Downloading pybcj-1.0.1-cp310-cp310-manylinux_2_17_x86_64.manylinux2014_x86_64.whl (49 kB)\n",
            "\u001b[2K     \u001b[90m━━━━━━━━━━━━━━━━━━━━━━━━━━━━━━━━━━━━━━━━\u001b[0m \u001b[32m49.8/49.8 kB\u001b[0m \u001b[31m3.0 MB/s\u001b[0m eta \u001b[36m0:00:00\u001b[0m\n",
            "\u001b[?25hCollecting multivolumefile>=0.2.3 (from py7zr)\n",
            "  Downloading multivolumefile-0.2.3-py3-none-any.whl (17 kB)\n",
            "Collecting brotli>=1.0.9 (from py7zr)\n",
            "  Downloading Brotli-1.0.9-cp310-cp310-manylinux_2_5_x86_64.manylinux1_x86_64.manylinux_2_12_x86_64.manylinux2010_x86_64.whl (2.7 MB)\n",
            "\u001b[2K     \u001b[90m━━━━━━━━━━━━━━━━━━━━━━━━━━━━━━━━━━━━━━━━\u001b[0m \u001b[32m2.7/2.7 MB\u001b[0m \u001b[31m51.4 MB/s\u001b[0m eta \u001b[36m0:00:00\u001b[0m\n",
            "\u001b[?25hCollecting inflate64>=0.3.1 (from py7zr)\n",
            "  Downloading inflate64-0.3.1-cp310-cp310-manylinux_2_17_x86_64.manylinux2014_x86_64.whl (93 kB)\n",
            "\u001b[2K     \u001b[90m━━━━━━━━━━━━━━━━━━━━━━━━━━━━━━━━━━━━━━━━\u001b[0m \u001b[32m93.1/93.1 kB\u001b[0m \u001b[31m11.5 MB/s\u001b[0m eta \u001b[36m0:00:00\u001b[0m\n",
            "\u001b[?25hRequirement already satisfied: psutil in /usr/local/lib/python3.10/dist-packages (from py7zr) (5.9.5)\n",
            "Installing collected packages: texttable, brotli, pyzstd, pyppmd, pycryptodomex, pybcj, multivolumefile, inflate64, py7zr\n",
            "Successfully installed brotli-1.0.9 inflate64-0.3.1 multivolumefile-0.2.3 py7zr-0.20.6 pybcj-1.0.1 pycryptodomex-3.18.0 pyppmd-1.0.0 pyzstd-0.15.9 texttable-1.6.7\n"
          ]
        }
      ]
    },
    {
      "cell_type": "code",
      "source": [
        "from google.colab import drive\n",
        "drive.mount('/content/drive')"
      ],
      "metadata": {
        "colab": {
          "base_uri": "https://localhost:8080/"
        },
        "id": "h4_Rop6HWPVF",
        "outputId": "233314c2-a294-499a-86c7-c6bfdd504ca8"
      },
      "execution_count": 6,
      "outputs": [
        {
          "output_type": "stream",
          "name": "stdout",
          "text": [
            "Mounted at /content/drive\n"
          ]
        }
      ]
    },
    {
      "cell_type": "code",
      "source": [
        "import py7zr\n",
        "\n",
        "# with ZipFile('../content/drive/MyDrive/GlassMetal.zip', 'r') as zip:\n",
        "#     zip.extractall()\n",
        "\n",
        "\n",
        "with py7zr.SevenZipFile('../content/drive/MyDrive/UnSortedWaste.7z', mode='r') as z:\n",
        "     z.extractall()\n"
      ],
      "metadata": {
        "id": "_P-Qk3vdWPYk"
      },
      "execution_count": 7,
      "outputs": []
    },
    {
      "cell_type": "code",
      "source": [
        "path =  \"../content/UnSortedWaste\"\n",
        "train_dir = os.path.join(path, \"train\")\n",
        "validation_dir = os.path.join(path, \"validation\")\n",
        "filenames = os.listdir(path)"
      ],
      "metadata": {
        "id": "5h2GK4yH-QON"
      },
      "execution_count": 8,
      "outputs": []
    },
    {
      "cell_type": "code",
      "source": [
        "#delete dirs\n",
        "shutil.rmtree( train_dir )\n",
        "shutil.rmtree( validation_dir )\n",
        "\n"
      ],
      "metadata": {
        "id": "Fv68OnHkhvZZ"
      },
      "execution_count": 83,
      "outputs": []
    },
    {
      "cell_type": "code",
      "source": [
        "labels = [\"cardboard\", \"glass\", \"metal\", \"plastic\", \"trash\", \"paper\"]\n",
        "\n",
        "os.makedirs(train_dir)\n",
        "os.makedirs(validation_dir)\n",
        "\n",
        "for label in labels:\n",
        "  os.makedirs(os.path.join(train_dir, label))\n",
        "  os.makedirs(os.path.join(validation_dir, label))\n"
      ],
      "metadata": {
        "id": "vTujocY8hCuI"
      },
      "execution_count": 84,
      "outputs": []
    },
    {
      "cell_type": "code",
      "source": [
        "df = pd.DataFrame(data=filenames, columns=['file_name'])\n",
        "total_train, total_validate = 0, 0\n",
        "\n",
        "df['label'] = df['file_name'].apply(lambda x: \"cardboard\" if x[:3]=='car'\n",
        "                                    else 'glass' if x[:3]=='gla'\n",
        "                                    else \"metal\" if x[:3]=='met'\n",
        "                                    else \"paper\" if x[:3]=='pap'\n",
        "                                    else \"plastic\" if x[:3]==\"pla\"\n",
        "                                    else \"trash\")\n",
        "\n",
        "\n",
        "for label in df['label'].unique():\n",
        "    files = df[df['label']==label]['file_name']\n",
        "    train = np.random.choice(files, size=int(len(files)*0.8))\n",
        "    test = [_ for _ in files if not (_ in train)]\n",
        "    print(label, len(files), len(train), len(test))\n",
        "    total_train += len(train)\n",
        "    total_validate += len(test)\n",
        "\n",
        "    for file in train:\n",
        "      shutil.copyfile(os.path.join(path, file),\n",
        "                     os.path.join(train_dir, label, file))\n",
        "\n",
        "    for file in test:\n",
        "      shutil.copyfile(os.path.join(path, file),\n",
        "                     os.path.join(validation_dir, label, file))\n"
      ],
      "metadata": {
        "id": "meYpDAH7WPbL",
        "colab": {
          "base_uri": "https://localhost:8080/"
        },
        "outputId": "d400225c-8028-4047-985c-1251b8b1982d"
      },
      "execution_count": 85,
      "outputs": [
        {
          "output_type": "stream",
          "name": "stdout",
          "text": [
            "glass 501 400 234\n",
            "cardboard 403 322 168\n",
            "plastic 482 385 223\n",
            "paper 594 475 267\n",
            "metal 410 328 176\n",
            "trash 137 109 61\n"
          ]
        }
      ]
    },
    {
      "cell_type": "code",
      "source": [
        "model = tf.keras.models.Sequential([\n",
        "    tf.keras.layers.Conv2D(8, (2,2), activation='relu', input_shape=(WIDTH, HEIGHT, IMAGE_CHANNELS)),\n",
        "    #tf.keras.layers.BatchNormalization(),\n",
        "    tf.keras.layers.MaxPooling2D(2, 2),\n",
        "\n",
        "    tf.keras.layers.Conv2D(16, (2,2), activation='relu'),\n",
        "    #tf.keras.layers.BatchNormalization(),\n",
        "    tf.keras.layers.MaxPooling2D(2,2),\n",
        "    tf.keras.layers.Dropout(0.2),\n",
        "\n",
        "    tf.keras.layers.Conv2D(32, (2,2), activation='relu'),\n",
        "\n",
        "    tf.keras.layers.BatchNormalization(),\n",
        "    tf.keras.layers.MaxPooling2D(2,2),\n",
        "    tf.keras.layers.Dropout(0.2),\n",
        "\n",
        "    tf.keras.layers.Conv2D(64, (2,2), activation='relu'),\n",
        "    #tf.keras.layers.BatchNormalization(),\n",
        "    tf.keras.layers.MaxPooling2D(2,2),\n",
        "\n",
        "    tf.keras.layers.Conv2D(128, (2,2), activation='relu'),\n",
        "    tf.keras.layers.MaxPooling2D(2,2),\n",
        "\n",
        "\n",
        "    tf.keras.layers.Flatten(),\n",
        "    tf.keras.layers.Dense(512, activation='relu'),\n",
        "    tf.keras.layers.Dense(6, activation='softmax')\n",
        "])\n",
        "model.summary()"
      ],
      "metadata": {
        "id": "Rg3--psnkSPt",
        "colab": {
          "base_uri": "https://localhost:8080/"
        },
        "outputId": "5636304d-7351-4724-a566-30b51e934632"
      },
      "execution_count": 92,
      "outputs": [
        {
          "output_type": "stream",
          "name": "stdout",
          "text": [
            "Model: \"sequential_11\"\n",
            "_________________________________________________________________\n",
            " Layer (type)                Output Shape              Param #   \n",
            "=================================================================\n",
            " conv2d_52 (Conv2D)          (None, 149, 149, 8)       104       \n",
            "                                                                 \n",
            " max_pooling2d_52 (MaxPoolin  (None, 74, 74, 8)        0         \n",
            " g2D)                                                            \n",
            "                                                                 \n",
            " conv2d_53 (Conv2D)          (None, 73, 73, 16)        528       \n",
            "                                                                 \n",
            " max_pooling2d_53 (MaxPoolin  (None, 36, 36, 16)       0         \n",
            " g2D)                                                            \n",
            "                                                                 \n",
            " dropout_29 (Dropout)        (None, 36, 36, 16)        0         \n",
            "                                                                 \n",
            " conv2d_54 (Conv2D)          (None, 35, 35, 32)        2080      \n",
            "                                                                 \n",
            " batch_normalization_16 (Bat  (None, 35, 35, 32)       128       \n",
            " chNormalization)                                                \n",
            "                                                                 \n",
            " max_pooling2d_54 (MaxPoolin  (None, 17, 17, 32)       0         \n",
            " g2D)                                                            \n",
            "                                                                 \n",
            " dropout_30 (Dropout)        (None, 17, 17, 32)        0         \n",
            "                                                                 \n",
            " conv2d_55 (Conv2D)          (None, 16, 16, 64)        8256      \n",
            "                                                                 \n",
            " max_pooling2d_55 (MaxPoolin  (None, 8, 8, 64)         0         \n",
            " g2D)                                                            \n",
            "                                                                 \n",
            " conv2d_56 (Conv2D)          (None, 7, 7, 128)         32896     \n",
            "                                                                 \n",
            " max_pooling2d_56 (MaxPoolin  (None, 3, 3, 128)        0         \n",
            " g2D)                                                            \n",
            "                                                                 \n",
            " flatten_11 (Flatten)        (None, 1152)              0         \n",
            "                                                                 \n",
            " dense_24 (Dense)            (None, 512)               590336    \n",
            "                                                                 \n",
            " dense_25 (Dense)            (None, 6)                 3078      \n",
            "                                                                 \n",
            "=================================================================\n",
            "Total params: 637,406\n",
            "Trainable params: 637,342\n",
            "Non-trainable params: 64\n",
            "_________________________________________________________________\n"
          ]
        }
      ]
    },
    {
      "cell_type": "code",
      "source": [],
      "metadata": {
        "id": "1j9YMqsrL5pO"
      },
      "execution_count": 81,
      "outputs": []
    },
    {
      "cell_type": "code",
      "source": [
        "\n",
        "from tensorflow.keras.optimizers import RMSprop\n",
        "model.compile(optimizer=RMSprop(learning_rate=0.001),\n",
        "              loss='mse',\n",
        "              metrics = ['accuracy'])"
      ],
      "metadata": {
        "id": "sXYpQ3spkSUy"
      },
      "execution_count": 93,
      "outputs": []
    },
    {
      "cell_type": "code",
      "source": [
        "from tensorflow.keras.preprocessing.image import ImageDataGenerator\n",
        "\n",
        "train_datagen = ImageDataGenerator( rescale = 1.0/255. ,\n",
        "                                   rotation_range=40,\n",
        "      width_shift_range=0.2,\n",
        "      height_shift_range=0.2,\n",
        "      shear_range=0.2,\n",
        "      zoom_range=0.2,\n",
        "      horizontal_flip=True,\n",
        "      fill_mode='nearest')\n",
        "test_datagen  = ImageDataGenerator( rescale = 1.0/255. )\n"
      ],
      "metadata": {
        "id": "0n97SH_jkSY2"
      },
      "execution_count": 94,
      "outputs": []
    },
    {
      "cell_type": "code",
      "source": [
        "train_generator = train_datagen.flow_from_directory(train_dir,\n",
        "                                                    batch_size=batch_size,\n",
        "                                                    class_mode='categorical',\n",
        "                                                    target_size=IMAGE_SIZE )\n",
        "\n",
        "validation_generator =  test_datagen.flow_from_directory(validation_dir,\n",
        "                                                         batch_size=batch_size,\n",
        "                                                         class_mode  = 'categorical',\n",
        "                                                         target_size = IMAGE_SIZE)"
      ],
      "metadata": {
        "id": "h61Y5yldpxRS",
        "colab": {
          "base_uri": "https://localhost:8080/"
        },
        "outputId": "533089f0-1b97-4a69-93c8-e463f32dd572"
      },
      "execution_count": 95,
      "outputs": [
        {
          "output_type": "stream",
          "name": "stdout",
          "text": [
            "Found 1398 images belonging to 6 classes.\n",
            "Found 1129 images belonging to 6 classes.\n"
          ]
        }
      ]
    },
    {
      "cell_type": "code",
      "source": [
        "from tensorflow.keras.callbacks import EarlyStopping, LearningRateScheduler\n",
        "earlystop = EarlyStopping(patience=6,restore_best_weights=True)\n"
      ],
      "metadata": {
        "id": "NUKEP6U0N_cc"
      },
      "execution_count": 96,
      "outputs": []
    },
    {
      "cell_type": "code",
      "source": [
        "history = model.fit(\n",
        "            train_generator,\n",
        "            epochs=60,\n",
        "            validation_data=validation_generator,\n",
        "            verbose=2,\n",
        "            callbacks=[earlystop]\n",
        "            )"
      ],
      "metadata": {
        "colab": {
          "base_uri": "https://localhost:8080/"
        },
        "id": "LEVPh8MwpxUJ",
        "outputId": "e0b00136-691e-4fbe-c880-d026e7e8e333"
      },
      "execution_count": 97,
      "outputs": [
        {
          "output_type": "stream",
          "name": "stdout",
          "text": [
            "Epoch 1/60\n",
            "28/28 - 14s - loss: 0.1614 - accuracy: 0.2411 - val_loss: 0.1383 - val_accuracy: 0.2834 - 14s/epoch - 487ms/step\n",
            "Epoch 2/60\n",
            "28/28 - 11s - loss: 0.1248 - accuracy: 0.3712 - val_loss: 0.1377 - val_accuracy: 0.3561 - 11s/epoch - 397ms/step\n",
            "Epoch 3/60\n",
            "28/28 - 10s - loss: 0.1169 - accuracy: 0.4349 - val_loss: 0.1367 - val_accuracy: 0.3410 - 10s/epoch - 344ms/step\n",
            "Epoch 4/60\n",
            "28/28 - 11s - loss: 0.1144 - accuracy: 0.4464 - val_loss: 0.1365 - val_accuracy: 0.3738 - 11s/epoch - 387ms/step\n",
            "Epoch 5/60\n",
            "28/28 - 11s - loss: 0.1096 - accuracy: 0.4750 - val_loss: 0.1346 - val_accuracy: 0.3968 - 11s/epoch - 401ms/step\n",
            "Epoch 6/60\n",
            "28/28 - 11s - loss: 0.1077 - accuracy: 0.4835 - val_loss: 0.1339 - val_accuracy: 0.4305 - 11s/epoch - 400ms/step\n",
            "Epoch 7/60\n",
            "28/28 - 11s - loss: 0.1049 - accuracy: 0.5043 - val_loss: 0.1338 - val_accuracy: 0.3818 - 11s/epoch - 378ms/step\n",
            "Epoch 8/60\n",
            "28/28 - 12s - loss: 0.1042 - accuracy: 0.5114 - val_loss: 0.1313 - val_accuracy: 0.4322 - 12s/epoch - 413ms/step\n",
            "Epoch 9/60\n",
            "28/28 - 12s - loss: 0.1015 - accuracy: 0.5179 - val_loss: 0.1293 - val_accuracy: 0.4606 - 12s/epoch - 432ms/step\n",
            "Epoch 10/60\n",
            "28/28 - 12s - loss: 0.0992 - accuracy: 0.5351 - val_loss: 0.1251 - val_accuracy: 0.4402 - 12s/epoch - 434ms/step\n",
            "Epoch 11/60\n",
            "28/28 - 11s - loss: 0.0975 - accuracy: 0.5486 - val_loss: 0.1261 - val_accuracy: 0.4588 - 11s/epoch - 400ms/step\n",
            "Epoch 12/60\n",
            "28/28 - 10s - loss: 0.0961 - accuracy: 0.5472 - val_loss: 0.1207 - val_accuracy: 0.5031 - 10s/epoch - 343ms/step\n",
            "Epoch 13/60\n",
            "28/28 - 11s - loss: 0.0944 - accuracy: 0.5658 - val_loss: 0.1133 - val_accuracy: 0.4659 - 11s/epoch - 399ms/step\n",
            "Epoch 14/60\n",
            "28/28 - 13s - loss: 0.0925 - accuracy: 0.5801 - val_loss: 0.1155 - val_accuracy: 0.5190 - 13s/epoch - 461ms/step\n",
            "Epoch 15/60\n",
            "28/28 - 11s - loss: 0.0882 - accuracy: 0.5944 - val_loss: 0.1067 - val_accuracy: 0.5474 - 11s/epoch - 400ms/step\n",
            "Epoch 16/60\n",
            "28/28 - 11s - loss: 0.0904 - accuracy: 0.5830 - val_loss: 0.1097 - val_accuracy: 0.5013 - 11s/epoch - 398ms/step\n",
            "Epoch 17/60\n",
            "28/28 - 11s - loss: 0.0898 - accuracy: 0.5844 - val_loss: 0.0997 - val_accuracy: 0.5802 - 11s/epoch - 390ms/step\n",
            "Epoch 18/60\n",
            "28/28 - 9s - loss: 0.0871 - accuracy: 0.6001 - val_loss: 0.1094 - val_accuracy: 0.4880 - 9s/epoch - 337ms/step\n",
            "Epoch 19/60\n",
            "28/28 - 11s - loss: 0.0852 - accuracy: 0.6130 - val_loss: 0.0998 - val_accuracy: 0.5545 - 11s/epoch - 400ms/step\n",
            "Epoch 20/60\n",
            "28/28 - 11s - loss: 0.0851 - accuracy: 0.6137 - val_loss: 0.0932 - val_accuracy: 0.5757 - 11s/epoch - 401ms/step\n",
            "Epoch 21/60\n",
            "28/28 - 11s - loss: 0.0837 - accuracy: 0.6280 - val_loss: 0.0906 - val_accuracy: 0.5996 - 11s/epoch - 399ms/step\n",
            "Epoch 22/60\n",
            "28/28 - 10s - loss: 0.0812 - accuracy: 0.6474 - val_loss: 0.1151 - val_accuracy: 0.4606 - 10s/epoch - 371ms/step\n",
            "Epoch 23/60\n",
            "28/28 - 11s - loss: 0.0817 - accuracy: 0.6359 - val_loss: 0.1054 - val_accuracy: 0.5332 - 11s/epoch - 393ms/step\n",
            "Epoch 24/60\n",
            "28/28 - 12s - loss: 0.0813 - accuracy: 0.6366 - val_loss: 0.1018 - val_accuracy: 0.5182 - 12s/epoch - 432ms/step\n",
            "Epoch 25/60\n",
            "28/28 - 11s - loss: 0.0789 - accuracy: 0.6452 - val_loss: 0.0982 - val_accuracy: 0.5562 - 11s/epoch - 397ms/step\n",
            "Epoch 26/60\n",
            "28/28 - 9s - loss: 0.0752 - accuracy: 0.6638 - val_loss: 0.0940 - val_accuracy: 0.5908 - 9s/epoch - 335ms/step\n",
            "Epoch 27/60\n",
            "28/28 - 11s - loss: 0.0766 - accuracy: 0.6624 - val_loss: 0.0866 - val_accuracy: 0.6165 - 11s/epoch - 398ms/step\n",
            "Epoch 28/60\n",
            "28/28 - 11s - loss: 0.0738 - accuracy: 0.6738 - val_loss: 0.1047 - val_accuracy: 0.5244 - 11s/epoch - 390ms/step\n",
            "Epoch 29/60\n",
            "28/28 - 9s - loss: 0.0753 - accuracy: 0.6538 - val_loss: 0.0958 - val_accuracy: 0.5704 - 9s/epoch - 335ms/step\n",
            "Epoch 30/60\n",
            "28/28 - 11s - loss: 0.0729 - accuracy: 0.6767 - val_loss: 0.1204 - val_accuracy: 0.4650 - 11s/epoch - 390ms/step\n",
            "Epoch 31/60\n",
            "28/28 - 11s - loss: 0.0714 - accuracy: 0.6910 - val_loss: 0.1083 - val_accuracy: 0.5297 - 11s/epoch - 390ms/step\n",
            "Epoch 32/60\n",
            "28/28 - 10s - loss: 0.0719 - accuracy: 0.6860 - val_loss: 0.0973 - val_accuracy: 0.5500 - 10s/epoch - 346ms/step\n",
            "Epoch 33/60\n",
            "28/28 - 10s - loss: 0.0734 - accuracy: 0.6881 - val_loss: 0.1099 - val_accuracy: 0.5190 - 10s/epoch - 364ms/step\n"
          ]
        }
      ]
    },
    {
      "cell_type": "code",
      "source": [
        "import matplotlib.pyplot as plt\n",
        "acc = history.history['accuracy']\n",
        "val_acc = history.history['val_accuracy']\n",
        "loss = history.history['loss']\n",
        "val_loss = history.history['val_loss']\n",
        "\n",
        "epochs = range(len(acc))\n",
        "\n",
        "plt.plot(epochs, acc, 'b', label='Training accuracy')\n",
        "plt.plot(epochs, val_acc, 'r', label='Validation accuracy')\n",
        "plt.title('Training and validation accuracy')\n",
        "plt.legend(loc=0)\n",
        "plt.figure()\n",
        "\n",
        "\n",
        "plt.show()"
      ],
      "metadata": {
        "id": "FvUq0iZ1pxXK",
        "colab": {
          "base_uri": "https://localhost:8080/",
          "height": 469
        },
        "outputId": "df37a1a2-e901-41f4-c047-55deac32e080"
      },
      "execution_count": 98,
      "outputs": [
        {
          "output_type": "display_data",
          "data": {
            "text/plain": [
              "<Figure size 640x480 with 1 Axes>"
            ],
            "image/png": "[encoded data removed]"
          },
          "metadata": {}
        },
        {
          "output_type": "display_data",
          "data": {
            "text/plain": [
              "<Figure size 640x480 with 0 Axes>"
            ]
          },
          "metadata": {}
        }
      ]
    },
    {
      "cell_type": "code",
      "source": [
        "loss = history.history['loss']\n",
        "val_loss = history.history['val_loss']\n",
        "\n",
        "epochs = range(len(acc))\n",
        "\n",
        "plt.plot(epochs, loss, 'b', label='Training loss')\n",
        "plt.plot(epochs, val_loss, 'r', label='Validation loss')\n",
        "plt.title('Training and validation loss')\n",
        "plt.legend(loc=0)\n",
        "plt.figure()\n",
        "\n",
        "\n",
        "plt.show()"
      ],
      "metadata": {
        "id": "-IxJCDxK792d",
        "colab": {
          "base_uri": "https://localhost:8080/",
          "height": 469
        },
        "outputId": "06a5b779-e245-4684-91ad-94c8001be017"
      },
      "execution_count": 99,
      "outputs": [
        {
          "output_type": "display_data",
          "data": {
            "text/plain": [
              "<Figure size 640x480 with 1 Axes>"
            ],
            "image/png": "[encoded data removed]"
          },
          "metadata": {}
        },
        {
          "output_type": "display_data",
          "data": {
            "text/plain": [
              "<Figure size 640x480 with 0 Axes>"
            ]
          },
          "metadata": {}
        }
      ]
    },
    {
      "cell_type": "code",
      "source": [],
      "metadata": {
        "id": "Ffh4B4bgpxaP"
      },
      "execution_count": null,
      "outputs": []
    },
    {
      "cell_type": "code",
      "source": [],
      "metadata": {
        "id": "Z32kcSW4Rnxw"
      },
      "execution_count": null,
      "outputs": []
    },
    {
      "cell_type": "code",
      "source": [],
      "metadata": {
        "id": "QI39APWyRn0W"
      },
      "execution_count": null,
      "outputs": []
    },
    {
      "cell_type": "code",
      "source": [],
      "metadata": {
        "id": "iLNMKJP3Rn20"
      },
      "execution_count": null,
      "outputs": []
    },
    {
      "cell_type": "code",
      "source": [],
      "metadata": {
        "id": "Jbkjev59Rn5a"
      },
      "execution_count": null,
      "outputs": []
    },
    {
      "cell_type": "code",
      "source": [],
      "metadata": {
        "id": "V0D9LXTwRn7-"
      },
      "execution_count": null,
      "outputs": []
    },
    {
      "cell_type": "code",
      "source": [],
      "metadata": {
        "id": "sedijYSgRn-j"
      },
      "execution_count": null,
      "outputs": []
    },
    {
      "cell_type": "code",
      "source": [],
      "metadata": {
        "id": "Pt2Z_6p7RoAw"
      },
      "execution_count": null,
      "outputs": []
    },
    {
      "cell_type": "code",
      "source": [
        "model = tf.keras.models.Sequential([\n",
        "        #    filters, strides\n",
        "        tf.keras.layers.Conv2D(16, (2, 2), activation='relu', input_shape=(WIDTH, HEIGHT, IMAGE_CHANNELS)),\n",
        "        tf.keras.layers.BatchNormalization(),\n",
        "        tf.keras.layers.MaxPooling2D(pool_size=(2, 2)),\n",
        "\n",
        "        tf.keras.layers.Conv2D(32, (2, 2), activation='relu'),\n",
        "        tf.keras.layers.BatchNormalization(),\n",
        "        tf.keras.layers.MaxPooling2D(pool_size=(2, 2)),\n",
        "\n",
        "        tf.keras.layers.Conv2D(64, (2, 2), activation='relu',padding='same'),\n",
        "        tf.keras.layers.BatchNormalization(),\n",
        "        tf.keras.layers.MaxPooling2D(pool_size=(2, 2)),\n",
        "\n",
        "        tf.keras.layers.Conv2D(128, (2, 2), activation='relu',padding='same'),\n",
        "        tf.keras.layers.BatchNormalization(),\n",
        "        tf.keras.layers.MaxPooling2D(pool_size=(2, 2)),\n",
        "\n",
        "        tf.keras.layers.Conv2D(256, (2, 2), activation='relu',padding='same'),\n",
        "        tf.keras.layers.BatchNormalization(),\n",
        "        tf.keras.layers.MaxPooling2D(pool_size=(2, 2)),\n",
        "\n",
        "\n",
        "        tf.keras.layers.Flatten(),\n",
        "        tf.keras.layers.Dense(1024, activation='relu'),\n",
        "        tf.keras.layers.BatchNormalization(),\n",
        "        tf.keras.layers.Dropout(0.2),\n",
        "        tf.keras.layers.Dense(512, activation='relu'),\n",
        "        tf.keras.layers.BatchNormalization(),\n",
        "        tf.keras.layers.Dropout(0.2),\n",
        "        tf.keras.layers.Dense(128, activation='relu'),\n",
        "        tf.keras.layers.BatchNormalization(),\n",
        "        tf.keras.layers.Dropout(0.2),\n",
        "        tf.keras.layers.Dense(6, activation='softmax')# 6 because we have 6 classes\n",
        "])"
      ],
      "metadata": {
        "id": "xS74hcivRoEK"
      },
      "execution_count": null,
      "outputs": []
    }
  ]
}