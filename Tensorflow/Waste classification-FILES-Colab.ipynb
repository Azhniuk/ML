{
  "nbformat": 4,
  "nbformat_minor": 0,
  "metadata": {
    "colab": {
      "provenance": [],
      "gpuType": "T4"
    },
    "kernelspec": {
      "name": "python3",
      "display_name": "Python 3"
    },
    "language_info": {
      "name": "python"
    },
    "accelerator": "GPU"
  },
  "cells": [
    {
      "cell_type": "code",
      "execution_count": null,
      "metadata": {
        "id": "SzolceaWWDSQ"
      },
      "outputs": [],
      "source": [
        "import os\n",
        "import shutil\n",
        "import numpy as np\n",
        "import pandas as pd\n",
        "import matplotlib.pyplot as plt\n",
        "\n",
        "import tensorflow as tf\n",
        "from tensorflow.keras.preprocessing.image import ImageDataGenerator, load_img\n",
        "from tensorflow.keras.utils import to_categorical\n",
        "\n",
        "import random"
      ]
    },
    {
      "cell_type": "code",
      "source": [
        "WIDTH=300\n",
        "HEIGHT=300\n",
        "IMAGE_SIZE=(WIDTH, HEIGHT)\n",
        "IMAGE_CHANNELS=3\n",
        "batch_size = 12"
      ],
      "metadata": {
        "id": "sUygLm5JWPON"
      },
      "execution_count": null,
      "outputs": []
    },
    {
      "cell_type": "code",
      "source": [
        "pip install py7zr"
      ],
      "metadata": {
        "id": "b-7ZVvJkWPQu",
        "colab": {
          "base_uri": "https://localhost:8080/"
        },
        "outputId": "49d694a7-b0b5-4ebe-8de5-55f6bb53a60f"
      },
      "execution_count": null,
      "outputs": [
        {
          "output_type": "stream",
          "name": "stdout",
          "text": [
            "Collecting py7zr\n",
            "  Downloading py7zr-0.20.6-py3-none-any.whl (66 kB)\n",
            "\u001b[?25l     \u001b[90m━━━━━━━━━━━━━━━━━━━━━━━━━━━━━━━━━━━━━━━━\u001b[0m \u001b[32m0.0/66.7 kB\u001b[0m \u001b[31m?\u001b[0m eta \u001b[36m-:--:--\u001b[0m\r\u001b[2K     \u001b[90m━━━━━━━━━━━━━━━━━━━━━━━━━━━━━━━━━━━━━━━━\u001b[0m \u001b[32m66.7/66.7 kB\u001b[0m \u001b[31m2.1 MB/s\u001b[0m eta \u001b[36m0:00:00\u001b[0m\n",
            "\u001b[?25hCollecting texttable (from py7zr)\n",
            "  Downloading texttable-1.6.7-py2.py3-none-any.whl (10 kB)\n",
            "Collecting pycryptodomex>=3.6.6 (from py7zr)\n",
            "  Downloading pycryptodomex-3.18.0-cp35-abi3-manylinux_2_17_x86_64.manylinux2014_x86_64.whl (2.1 MB)\n",
            "\u001b[2K     \u001b[90m━━━━━━━━━━━━━━━━━━━━━━━━━━━━━━━━━━━━━━━━\u001b[0m \u001b[32m2.1/2.1 MB\u001b[0m \u001b[31m51.9 MB/s\u001b[0m eta \u001b[36m0:00:00\u001b[0m\n",
            "\u001b[?25hCollecting pyzstd>=0.14.4 (from py7zr)\n",
            "  Downloading pyzstd-0.15.9-cp310-cp310-manylinux_2_17_x86_64.manylinux2014_x86_64.whl (412 kB)\n",
            "\u001b[2K     \u001b[90m━━━━━━━━━━━━━━━━━━━━━━━━━━━━━━━━━━━━━━\u001b[0m \u001b[32m412.3/412.3 kB\u001b[0m \u001b[31m42.9 MB/s\u001b[0m eta \u001b[36m0:00:00\u001b[0m\n",
            "\u001b[?25hCollecting pyppmd<1.1.0,>=0.18.1 (from py7zr)\n",
            "  Downloading pyppmd-1.0.0-cp310-cp310-manylinux_2_17_x86_64.manylinux2014_x86_64.whl (138 kB)\n",
            "\u001b[2K     \u001b[90m━━━━━━━━━━━━━━━━━━━━━━━━━━━━━━━━━━━━━━\u001b[0m \u001b[32m138.8/138.8 kB\u001b[0m \u001b[31m16.7 MB/s\u001b[0m eta \u001b[36m0:00:00\u001b[0m\n",
            "\u001b[?25hCollecting pybcj>=0.6.0 (from py7zr)\n",
            "  Downloading pybcj-1.0.1-cp310-cp310-manylinux_2_17_x86_64.manylinux2014_x86_64.whl (49 kB)\n",
            "\u001b[2K     \u001b[90m━━━━━━━━━━━━━━━━━━━━━━━━━━━━━━━━━━━━━━━━\u001b[0m \u001b[32m49.8/49.8 kB\u001b[0m \u001b[31m5.7 MB/s\u001b[0m eta \u001b[36m0:00:00\u001b[0m\n",
            "\u001b[?25hCollecting multivolumefile>=0.2.3 (from py7zr)\n",
            "  Downloading multivolumefile-0.2.3-py3-none-any.whl (17 kB)\n",
            "Collecting brotli>=1.0.9 (from py7zr)\n",
            "  Downloading Brotli-1.0.9-cp310-cp310-manylinux_2_5_x86_64.manylinux1_x86_64.manylinux_2_12_x86_64.manylinux2010_x86_64.whl (2.7 MB)\n",
            "\u001b[2K     \u001b[90m━━━━━━━━━━━━━━━━━━━━━━━━━━━━━━━━━━━━━━━━\u001b[0m \u001b[32m2.7/2.7 MB\u001b[0m \u001b[31m90.5 MB/s\u001b[0m eta \u001b[36m0:00:00\u001b[0m\n",
            "\u001b[?25hCollecting inflate64>=0.3.1 (from py7zr)\n",
            "  Downloading inflate64-0.3.1-cp310-cp310-manylinux_2_17_x86_64.manylinux2014_x86_64.whl (93 kB)\n",
            "\u001b[2K     \u001b[90m━━━━━━━━━━━━━━━━━━━━━━━━━━━━━━━━━━━━━━━━\u001b[0m \u001b[32m93.1/93.1 kB\u001b[0m \u001b[31m11.7 MB/s\u001b[0m eta \u001b[36m0:00:00\u001b[0m\n",
            "\u001b[?25hRequirement already satisfied: psutil in /usr/local/lib/python3.10/dist-packages (from py7zr) (5.9.5)\n",
            "Installing collected packages: texttable, brotli, pyzstd, pyppmd, pycryptodomex, pybcj, multivolumefile, inflate64, py7zr\n",
            "Successfully installed brotli-1.0.9 inflate64-0.3.1 multivolumefile-0.2.3 py7zr-0.20.6 pybcj-1.0.1 pycryptodomex-3.18.0 pyppmd-1.0.0 pyzstd-0.15.9 texttable-1.6.7\n"
          ]
        }
      ]
    },
    {
      "cell_type": "code",
      "source": [
        "from google.colab import drive\n",
        "drive.mount('/content/drive')"
      ],
      "metadata": {
        "colab": {
          "base_uri": "https://localhost:8080/"
        },
        "id": "h4_Rop6HWPVF",
        "outputId": "a00ebc0a-d2f6-4102-a202-8a670cb55d61"
      },
      "execution_count": null,
      "outputs": [
        {
          "output_type": "stream",
          "name": "stdout",
          "text": [
            "Mounted at /content/drive\n"
          ]
        }
      ]
    },
    {
      "cell_type": "code",
      "source": [
        "from zipfile import ZipFile\n",
        "\n",
        "with ZipFile('../content/drive/MyDrive/GlassMetal.zip', 'r') as zip:\n",
        "    zip.extractall()\n",
        "\n",
        "\n",
        "# with py7zr.SevenZipFile('../content/drive/MyDrive/GlassMetal.zip', mode='r') as z:\n",
        "#     z.extractall()\n",
        "\n",
        "path = '../content/GlassMetal'\n",
        "\n",
        "filenames = os.listdir(path)"
      ],
      "metadata": {
        "id": "_P-Qk3vdWPYk"
      },
      "execution_count": null,
      "outputs": []
    },
    {
      "cell_type": "code",
      "source": [
        "#delete dirs\n",
        "shutil.rmtree( train_dir )\n",
        "shutil.rmtree( validation_dir )\n",
        "\n"
      ],
      "metadata": {
        "id": "Fv68OnHkhvZZ"
      },
      "execution_count": null,
      "outputs": []
    },
    {
      "cell_type": "code",
      "source": [
        "path =  \"GlassMetal\"\n",
        "train_dir = os.path.join(path, \"train\")\n",
        "validation_dir = os.path.join(path, \"validation\")\n",
        "\n",
        "train_1_dir = os.path.join(train_dir, 'glass')\n",
        "train_2_dir = os.path.join(train_dir, 'metal')\n",
        "\n",
        "validation_1_dir = os.path.join(validation_dir, 'glass')\n",
        "validation_2_dir = os.path.join(validation_dir,  'metal')\n",
        "\n",
        "\n",
        "os.makedirs(train_dir)\n",
        "os.makedirs(validation_dir)\n",
        "os.makedirs(train_1_dir)\n",
        "os.makedirs(train_2_dir)\n",
        "os.makedirs(validation_1_dir)\n",
        "os.makedirs(validation_2_dir)"
      ],
      "metadata": {
        "id": "vTujocY8hCuI"
      },
      "execution_count": null,
      "outputs": []
    },
    {
      "cell_type": "code",
      "source": [],
      "metadata": {
        "id": "M8Xhr8M2FFhZ"
      },
      "execution_count": null,
      "outputs": []
    },
    {
      "cell_type": "code",
      "source": [
        "df = pd.DataFrame(data=filenames, columns=['file_name'])\n",
        "total_train, total_validate = 0, 0\n",
        "\n",
        "df['label'] = df['file_name'].apply(lambda x: 'glass' if x[:3]=='gla'\n",
        "                                    else \"metal\")\n",
        "\n",
        "for label in df['label'].unique():\n",
        "    a = label\n",
        "    files = df[df['label']==label]['file_name']\n",
        "    train = np.random.choice(files, size=int(len(files)*0.8))\n",
        "    test = [_ for _ in files if not (_ in train)]\n",
        "    print(label, len(files), len(train), len(test))\n",
        "    total_train += len(train)\n",
        "    total_validate += len(test)\n",
        "\n",
        "    for file in train:\n",
        "      shutil.copyfile(os.path.join(path, file),\n",
        "                     os.path.join(train_dir, a, file))\n",
        "\n",
        "\n",
        "    for file in test:\n",
        "      shutil.copyfile(os.path.join(path, file),\n",
        "                     os.path.join(validation_dir, a, file))\n"
      ],
      "metadata": {
        "id": "meYpDAH7WPbL",
        "colab": {
          "base_uri": "https://localhost:8080/"
        },
        "outputId": "248101df-a6f2-462e-992e-c3d88323a7a4"
      },
      "execution_count": null,
      "outputs": [
        {
          "output_type": "stream",
          "name": "stdout",
          "text": [
            "glass 501 400 230\n",
            "metal 410 328 177\n"
          ]
        }
      ]
    },
    {
      "cell_type": "code",
      "source": [
        "model = tf.keras.models.Sequential([\n",
        "    tf.keras.layers.Conv2D(16, (3,3), activation='relu', input_shape=(300, 300, 3)),\n",
        "    tf.keras.layers.MaxPooling2D(2,2),\n",
        "    tf.keras.layers.Conv2D(32, (3,3), activation='relu'),\n",
        "    tf.keras.layers.MaxPooling2D(2,2),\n",
        "    tf.keras.layers.Conv2D(64, (3,3), activation='relu'),\n",
        "    tf.keras.layers.MaxPooling2D(2,2),\n",
        "\n",
        "    tf.keras.layers.Conv2D(128, (3,3), activation='relu'),\n",
        "    tf.keras.layers.MaxPooling2D(2,2),\n",
        "    tf.keras.layers.Flatten(),\n",
        "    tf.keras.layers.Dense(512, activation='relu'),\n",
        "    tf.keras.layers.Dense(1, activation='sigmoid')\n",
        "])\n",
        "model.summary()"
      ],
      "metadata": {
        "colab": {
          "base_uri": "https://localhost:8080/"
        },
        "id": "Rg3--psnkSPt",
        "outputId": "7f83de42-491c-4f36-8653-0c1477548769"
      },
      "execution_count": null,
      "outputs": [
        {
          "output_type": "stream",
          "name": "stdout",
          "text": [
            "Model: \"sequential_3\"\n",
            "_________________________________________________________________\n",
            " Layer (type)                Output Shape              Param #   \n",
            "=================================================================\n",
            " conv2d_13 (Conv2D)          (None, 298, 298, 16)      448       \n",
            "                                                                 \n",
            " max_pooling2d_13 (MaxPoolin  (None, 149, 149, 16)     0         \n",
            " g2D)                                                            \n",
            "                                                                 \n",
            " conv2d_14 (Conv2D)          (None, 147, 147, 32)      4640      \n",
            "                                                                 \n",
            " max_pooling2d_14 (MaxPoolin  (None, 73, 73, 32)       0         \n",
            " g2D)                                                            \n",
            "                                                                 \n",
            " conv2d_15 (Conv2D)          (None, 71, 71, 64)        18496     \n",
            "                                                                 \n",
            " max_pooling2d_15 (MaxPoolin  (None, 35, 35, 64)       0         \n",
            " g2D)                                                            \n",
            "                                                                 \n",
            " conv2d_16 (Conv2D)          (None, 33, 33, 128)       73856     \n",
            "                                                                 \n",
            " max_pooling2d_16 (MaxPoolin  (None, 16, 16, 128)      0         \n",
            " g2D)                                                            \n",
            "                                                                 \n",
            " flatten_3 (Flatten)         (None, 32768)             0         \n",
            "                                                                 \n",
            " dense_6 (Dense)             (None, 512)               16777728  \n",
            "                                                                 \n",
            " dense_7 (Dense)             (None, 1)                 513       \n",
            "                                                                 \n",
            "=================================================================\n",
            "Total params: 16,875,681\n",
            "Trainable params: 16,875,681\n",
            "Non-trainable params: 0\n",
            "_________________________________________________________________\n"
          ]
        }
      ]
    },
    {
      "cell_type": "code",
      "source": [
        "\n",
        "from tensorflow.keras.optimizers import RMSprop\n",
        "model.compile(optimizer=RMSprop(learning_rate=0.001),\n",
        "              loss='binary_crossentropy',\n",
        "              metrics = ['accuracy'])"
      ],
      "metadata": {
        "id": "sXYpQ3spkSUy"
      },
      "execution_count": null,
      "outputs": []
    },
    {
      "cell_type": "code",
      "source": [
        "from tensorflow.keras.preprocessing.image import ImageDataGenerator\n",
        "\n",
        "train_datagen = ImageDataGenerator( rescale = 1.0/255. ,\n",
        "                                   rotation_range=40,\n",
        "      width_shift_range=0.2,\n",
        "      height_shift_range=0.2,\n",
        "      shear_range=0.2,\n",
        "      zoom_range=0.2,\n",
        "      horizontal_flip=True,\n",
        "      fill_mode='nearest')\n",
        "test_datagen  = ImageDataGenerator( rescale = 1.0/255. )\n"
      ],
      "metadata": {
        "id": "0n97SH_jkSY2"
      },
      "execution_count": null,
      "outputs": []
    },
    {
      "cell_type": "code",
      "source": [
        "train_generator = train_datagen.flow_from_directory(train_dir,\n",
        "                                                    batch_size=20,\n",
        "                                                    class_mode='binary',\n",
        "                                                    target_size=IMAGE_SIZE )\n",
        "\n",
        "validation_generator =  test_datagen.flow_from_directory(validation_dir,\n",
        "                                                         batch_size=20,\n",
        "                                                         class_mode  = 'binary',\n",
        "                                                         target_size = IMAGE_SIZE)"
      ],
      "metadata": {
        "colab": {
          "base_uri": "https://localhost:8080/"
        },
        "id": "h61Y5yldpxRS",
        "outputId": "d22477da-03ed-4511-d70a-db0781202bf6"
      },
      "execution_count": null,
      "outputs": [
        {
          "output_type": "stream",
          "name": "stdout",
          "text": [
            "Found 504 images belonging to 2 classes.\n",
            "Found 407 images belonging to 2 classes.\n"
          ]
        }
      ]
    },
    {
      "cell_type": "code",
      "source": [],
      "metadata": {
        "id": "aqPiQJGvN_Kh"
      },
      "execution_count": null,
      "outputs": []
    },
    {
      "cell_type": "code",
      "source": [],
      "metadata": {
        "id": "PQVfZNWlN_S7"
      },
      "execution_count": null,
      "outputs": []
    },
    {
      "cell_type": "code",
      "source": [],
      "metadata": {
        "id": "NUKEP6U0N_cc"
      },
      "execution_count": null,
      "outputs": []
    },
    {
      "cell_type": "code",
      "source": [
        "history = model.fit(\n",
        "            train_generator,\n",
        "            epochs=15,\n",
        "            validation_data=validation_generator,\n",
        "            verbose=2\n",
        "            )"
      ],
      "metadata": {
        "colab": {
          "base_uri": "https://localhost:8080/"
        },
        "id": "LEVPh8MwpxUJ",
        "outputId": "48b6e282-e3bd-4703-e46e-75bfb80e06bc"
      },
      "execution_count": null,
      "outputs": [
        {
          "output_type": "stream",
          "name": "stdout",
          "text": [
            "Epoch 1/15\n",
            "26/26 - 16s - loss: 0.8543 - accuracy: 0.4960 - val_loss: 0.6837 - val_accuracy: 0.5676 - 16s/epoch - 605ms/step\n",
            "Epoch 2/15\n",
            "26/26 - 13s - loss: 0.6947 - accuracy: 0.5139 - val_loss: 0.6871 - val_accuracy: 0.5651 - 13s/epoch - 494ms/step\n",
            "Epoch 3/15\n",
            "26/26 - 12s - loss: 0.6901 - accuracy: 0.5456 - val_loss: 0.7003 - val_accuracy: 0.4349 - 12s/epoch - 475ms/step\n",
            "Epoch 4/15\n",
            "26/26 - 11s - loss: 0.6955 - accuracy: 0.5417 - val_loss: 0.6597 - val_accuracy: 0.5872 - 11s/epoch - 425ms/step\n",
            "Epoch 5/15\n",
            "26/26 - 13s - loss: 0.7003 - accuracy: 0.6111 - val_loss: 0.6232 - val_accuracy: 0.7224 - 13s/epoch - 489ms/step\n",
            "Epoch 6/15\n",
            "26/26 - 13s - loss: 0.6339 - accuracy: 0.6587 - val_loss: 0.5550 - val_accuracy: 0.7273 - 13s/epoch - 517ms/step\n",
            "Epoch 7/15\n",
            "26/26 - 13s - loss: 0.6132 - accuracy: 0.6885 - val_loss: 0.9569 - val_accuracy: 0.5332 - 13s/epoch - 496ms/step\n",
            "Epoch 8/15\n",
            "26/26 - 13s - loss: 0.5747 - accuracy: 0.7083 - val_loss: 0.7238 - val_accuracy: 0.6143 - 13s/epoch - 505ms/step\n",
            "Epoch 9/15\n",
            "26/26 - 13s - loss: 0.5817 - accuracy: 0.7024 - val_loss: 0.5181 - val_accuracy: 0.7494 - 13s/epoch - 519ms/step\n",
            "Epoch 10/15\n",
            "26/26 - 13s - loss: 0.5935 - accuracy: 0.6766 - val_loss: 0.5557 - val_accuracy: 0.7543 - 13s/epoch - 500ms/step\n",
            "Epoch 11/15\n",
            "26/26 - 11s - loss: 0.5428 - accuracy: 0.7599 - val_loss: 0.4829 - val_accuracy: 0.7641 - 11s/epoch - 433ms/step\n",
            "Epoch 12/15\n",
            "26/26 - 12s - loss: 0.5518 - accuracy: 0.6944 - val_loss: 0.5495 - val_accuracy: 0.6904 - 12s/epoch - 480ms/step\n",
            "Epoch 13/15\n",
            "26/26 - 15s - loss: 0.5166 - accuracy: 0.7718 - val_loss: 0.5389 - val_accuracy: 0.7174 - 15s/epoch - 583ms/step\n",
            "Epoch 14/15\n",
            "26/26 - 12s - loss: 0.5382 - accuracy: 0.7282 - val_loss: 0.5071 - val_accuracy: 0.7297 - 12s/epoch - 450ms/step\n",
            "Epoch 15/15\n",
            "26/26 - 13s - loss: 0.4980 - accuracy: 0.7460 - val_loss: 0.5844 - val_accuracy: 0.7273 - 13s/epoch - 498ms/step\n"
          ]
        }
      ]
    },
    {
      "cell_type": "code",
      "source": [],
      "metadata": {
        "id": "FvUq0iZ1pxXK"
      },
      "execution_count": null,
      "outputs": []
    },
    {
      "cell_type": "code",
      "source": [],
      "metadata": {
        "id": "Ffh4B4bgpxaP"
      },
      "execution_count": null,
      "outputs": []
    }
  ]
}