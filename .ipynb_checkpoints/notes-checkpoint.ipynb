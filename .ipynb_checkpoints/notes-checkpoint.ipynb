{
 "cells": [
  {
   "cell_type": "markdown",
   "id": "28fa56d0",
   "metadata": {},
   "source": [
    "\n",
    "#### First\n",
    "\n",
    "df_train = pd.read_csv('')\n",
    "\n",
    "data.head()\n",
    "data.describe()\n",
    "data.shape  -- returns: [rows, columns]\n",
    "\n",
    "\n",
    "\n",
    "##### MATPLOTLIB\n",
    "%matplotlib notebook - to work with notebook <br>\n",
    "data.columnName.hist(bins = 20)  - histogram of a column\n",
    "\n",
    "##### additional \n",
    "data.pop('name or index')  -- removes smth from the data"
   ]
  },
  {
   "cell_type": "code",
   "execution_count": null,
   "id": "ee29938e",
   "metadata": {},
   "outputs": [],
   "source": []
  }
 ],
 "metadata": {
  "kernelspec": {
   "display_name": "Python 3 (ipykernel)",
   "language": "python",
   "name": "python3"
  },
  "language_info": {
   "codemirror_mode": {
    "name": "ipython",
    "version": 3
   },
   "file_extension": ".py",
   "mimetype": "text/x-python",
   "name": "python",
   "nbconvert_exporter": "python",
   "pygments_lexer": "ipython3",
   "version": "3.7.16"
  }
 },
 "nbformat": 4,
 "nbformat_minor": 5
}
