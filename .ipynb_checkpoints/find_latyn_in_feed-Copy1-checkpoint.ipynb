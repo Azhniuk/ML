{
 "cells": [
  {
   "cell_type": "code",
   "execution_count": null,
   "id": "9fc496d8",
   "metadata": {},
   "outputs": [],
   "source": [
    "import gzip #розархівація\n",
    "import os   #робота з операційною системою, файли\n",
    "import pandas as pd\n",
    "import re #regEx\n",
    "\n",
    "#імпортує\n"
   ]
  },
  {
   "cell_type": "code",
   "execution_count": null,
   "id": "fae874d0",
   "metadata": {},
   "outputs": [],
   "source": [
    "with gzip.open('/home/sam/Downloads/uploadts-1690917025-sec_feed_mp1_ru_main_000000000000.csv.gz', 'rb') as f:\n",
    "    file = f.read()\n",
    "\n",
    "with open('tmp.csv', 'w') as f:\n",
    "    f.write(file.decode())\n",
    "     #відкриває, читає, декодує\n",
    "        \n",
    "names = ['id','title','description','link','image_url','availability','availability_date','price','brand','condition','mpn','gtin','product_type','google_product_category','custom_label_0','custom_label_1','custom_label_2']\n",
    "#назви колонок тобі потрібні  List of column names to use\n",
    "\n",
    "df = pd.read_csv('tmp.csv', sep='\\t', names=names, skiprows=1)\n",
    "                    #читаєш, розділяєш по \\t, заголовки колонок, пропускаєш рядок\n"
   ]
  },
  {
   "cell_type": "code",
   "execution_count": null,
   "id": "6d6701dc",
   "metadata": {},
   "outputs": [],
   "source": [
    "os.remove('tmp.csv') \n",
    "df['id'] = df['id'].astype(int)\n",
    "#перетворюєш першу колонку з str в int\n",
    "\n",
    "display(df.head(2))\n",
    "\n",
    "good, bad = [], []\n",
    "#масиви для заголовків правильних і ні\n",
    "\n"
   ]
  },
  {
   "cell_type": "code",
   "execution_count": null,
   "id": "d7880aaa",
   "metadata": {},
   "outputs": [],
   "source": [
    "for idx, art, t,  in zip(df['id'],df['mpn'],df['title']):\n",
    "    n = t.partition(art)[2]\n",
    "    if len(n)==1:\n",
    "        bad.append(idx)  \n",
    "    elif re.search(\"[a-zA-Z]\", n):\n",
    "        bad.append(idx)  \n",
    "    else:\n",
    "        good.append(idx)\n",
    "\n",
    "df1 = pd.DataFrame(data=good, columns=['ware_id'])\n",
    "df1.to_csv('wares_for_feed_cyr.csv', index=False)\n",
    "\n",
    "df2 = pd.DataFrame(data=bad, columns=['ware_id'])\n",
    "df2.to_csv('wares_for_feed_lat.csv', index=False)"
   ]
  }
 ],
 "metadata": {
  "kernelspec": {
   "display_name": "Python 3 (ipykernel)",
   "language": "python",
   "name": "python3"
  },
  "language_info": {
   "codemirror_mode": {
    "name": "ipython",
    "version": 3
   },
   "file_extension": ".py",
   "mimetype": "text/x-python",
   "name": "python",
   "nbconvert_exporter": "python",
   "pygments_lexer": "ipython3",
   "version": "3.7.16"
  }
 },
 "nbformat": 4,
 "nbformat_minor": 5
}
