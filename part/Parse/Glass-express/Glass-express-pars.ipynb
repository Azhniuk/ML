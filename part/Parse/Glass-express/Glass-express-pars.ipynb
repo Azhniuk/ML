{
 "cells": [
  {
   "cell_type": "code",
   "execution_count": null,
   "id": "57048f82",
   "metadata": {},
   "outputs": [],
   "source": []
  },
  {
   "cell_type": "markdown",
   "id": "8a0d3b5d",
   "metadata": {},
   "source": [
    "Main"
   ]
  },
  {
   "cell_type": "code",
   "execution_count": 13,
   "id": "696009a7",
   "metadata": {},
   "outputs": [],
   "source": [
    "import requests\n",
    "import pandas as pd\n",
    "from bs4 import BeautifulSoup\n",
    "import time\n",
    "\n",
    "with open('sitemap.xml', 'r') as f:\n",
    "    data = f.read() \n",
    "\n",
    "bs_data = BeautifulSoup(data, 'xml') \n",
    "b_name = bs_data.find_all('loc') \n",
    "\n",
    "text_file = open(\"links.txt\", \"w\")\n",
    "exclusion = ['https://shop.glass-express.ua/','https://shop.glass-express.ua/klienty-o-nas',\n",
    "             'https://shop.glass-express.ua/en/klienty-o-nas', 'https://shop.glass-express.ua/ua/klienty-o-nas',\n",
    "             'https://shop.glass-express.ua/ua/o-kompanii','https://shop.glass-express.ua/dostavka-i-oplata',\n",
    "             'https://shop.glass-express.ua/kontakty', 'https://shop.glass-express.ua/garantiia-i-vozvrat',\n",
    "             'https://shop.glass-express.ua/zapisatsia-na-servis', 'https://shop.glass-express.ua/publichnyi-dogovor',\n",
    "             'https://shop.glass-express.ua/servisni-tsentri']\n",
    "\n",
    "\n",
    "#Create file with links\n",
    "for link in b_name :\n",
    "     if link.get_text() not in exclusion:\n",
    "            text_file.write(link.get_text()+ \"\\n\")\n",
    "text_file.close()\n",
    "\n",
    "\n"
   ]
  },
  {
   "cell_type": "code",
   "execution_count": 2,
   "id": "46316cf6",
   "metadata": {},
   "outputs": [],
   "source": []
  },
  {
   "cell_type": "code",
   "execution_count": 32,
   "id": "c53ee959",
   "metadata": {},
   "outputs": [
    {
     "name": "stdout",
     "output_type": "stream",
     "text": [
      "['СКЛО ЛОБОВЕ, XINYI', 'СКЛО ЛОБОВЕ, XINYI', 'СКЛО ЛОБОВЕ, SEKURIT', 'СКЛО ЛОБОВЕ, SEKURIT', 'СКЛО ЛОБОВЕ, GUARDIAN', 'СКЛО ЗАДНЄ, XINYI', 'СКЛО БОКОВЕ ПРАВЕ ПЕРЕДНЄ ДВЕРНЕ, XINYI', 'СКЛО БОКОВЕ ПРАВЕ ПЕРЕДНЄ ДВЕРНЕ, SEKURIT', 'СКЛО БОКОВЕ ПРАВЕ ЗАДНЄ ДВЕРНЕ, XINYI', 'СКЛО БОКОВЕ ЛІВЕ ПЕРЕДНЄ ДВЕРНЕ, XINYI', 'СКЛО БОКОВЕ ЛІВЕ ПЕРЕДНЄ ДВЕРНЕ, SEKURIT', 'СКЛО БОКОВЕ ЛІВЕ ЗАДНЄ ДВЕРНЕ, XINYI', 'СКЛО ЛОБОВЕ, XINYI', 'СКЛО ЛОБОВЕ, XINYI', 'СКЛО ЛОБОВЕ, SEKURIT', 'СКЛО ЛОБОВЕ, PILKINGTON', 'СКЛО ЛОБОВЕ, PILKINGTON', 'СКЛО ЛОБОВЕ, PILKINGTON', 'СКЛО ЗАДНЄ, STARGLASS', 'СКЛО ЗАДНЄ, SEKURIT', 'СКЛО ЗАДНЄ, AGC', 'СКЛО БОКОВЕ ПРАВЕ ЗАДНЄ ДВЕРНЕ, PILKINGTON', 'СКЛО БОКОВЕ ПРАВЕ ЗАДНЄ ДВЕРНЕ, AGC', 'СКЛО БОКОВЕ ЛІВЕ ЗАДНЄ ДВЕРНЕ, PILKINGTON']\n",
      "['2 981', '5 344', '9 422', '10 104', '6 398', '2 812', '630', '1 434', '1 082', '779', '1 434', '888', '5 034', '4 500', '8 156', '7 453', '8 437', '8 437', '6 469', '8 156', '6 750', '2 250', '2 166', '2 250', '2 250']\n"
     ]
    }
   ],
   "source": [
    "import pandas as pd\n",
    "import xlsxwriter\n",
    "from bs4 import BeautifulSoup\n",
    "import requests\n",
    "\n",
    "url = 'https://shop.glass-express.ua/q3-2011-2018' + \"?user_per_page=48\"\n",
    "page = requests.get(url)\n",
    "\n",
    "blockNames = []\n",
    "blockPrices = []\n",
    "soup = BeautifulSoup(page.text, \"html.parser\")\n",
    "\n",
    "allNews = []\n",
    "items = []\n",
    "\n",
    "allNames = soup.findAll('a', class_='product-cut__title-link')\n",
    "for data in allNames:\n",
    "    if data is not None:\n",
    "        blockNames.append(data.text)\n",
    "        \n",
    "print(blockName)\n",
    "\n",
    "\n",
    "allPrices = soup.findAll('span', class_='product-price__item-value')\n",
    "for data in allPrices:\n",
    "    blockPrices.append(data.text)\n",
    "    \n",
    "print(blockPrices)\n",
    "\n"
   ]
  },
  {
   "cell_type": "code",
   "execution_count": null,
   "id": "47fb589d",
   "metadata": {},
   "outputs": [],
   "source": [
    "if page2.status_code == 200:\n",
    "    print('Web site exists')\n",
    "else:\n",
    "    print('Web site does not exist') "
   ]
  },
  {
   "cell_type": "code",
   "execution_count": null,
   "id": "031abae0",
   "metadata": {},
   "outputs": [],
   "source": [
    "\n",
    " \n",
    "# Workbook() takes one, non-optional, argument\n",
    "# which is the filename that we want to create.\n",
    "workbook = xlsxwriter.Workbook('hello.xlsx')\n",
    " \n",
    "# The workbook object is then used to add new\n",
    "# worksheet via the add_worksheet() method.\n",
    "worksheet = workbook.add_worksheet()\n",
    " \n",
    "# Use the worksheet object to write\n",
    "# data via the write() method.\n",
    "worksheet.write('A1', 'Hello..')\n",
    "worksheet.write('B1', 'Geeks')\n",
    "worksheet.write('C1', 'For')\n",
    "worksheet.write('D1', 'Geeks')\n",
    " \n",
    "# Finally, close the Excel file\n",
    "# via the close() method.\n",
    "workbook.close()"
   ]
  },
  {
   "cell_type": "markdown",
   "id": "2eaa882e",
   "metadata": {},
   "source": []
  },
  {
   "cell_type": "code",
   "execution_count": null,
   "id": "35b779d3",
   "metadata": {},
   "outputs": [],
   "source": []
  },
  {
   "cell_type": "code",
   "execution_count": null,
   "id": "642b086c",
   "metadata": {},
   "outputs": [],
   "source": [
    "\n",
    "'''\n",
    "for child in bs_data.iter():\n",
    "    i = child.tag.find('}')+1\n",
    "    if child.tag[i:] == 'loc':\n",
    "        if child.text.split('/')[3]=='ua':\n",
    "            if child.text.split('/')[4] not in exclusion:\n",
    "                print( child.text)\n",
    "'''"
   ]
  },
  {
   "cell_type": "code",
   "execution_count": null,
   "id": "d2a08b8d",
   "metadata": {},
   "outputs": [],
   "source": []
  },
  {
   "cell_type": "code",
   "execution_count": null,
   "id": "3340c86e",
   "metadata": {},
   "outputs": [],
   "source": []
  },
  {
   "cell_type": "code",
   "execution_count": null,
   "id": "8065f0c5",
   "metadata": {},
   "outputs": [],
   "source": []
  },
  {
   "cell_type": "code",
   "execution_count": null,
   "id": "2c2d05e8",
   "metadata": {},
   "outputs": [],
   "source": []
  },
  {
   "cell_type": "code",
   "execution_count": null,
   "id": "3e6aa655",
   "metadata": {},
   "outputs": [],
   "source": []
  }
 ],
 "metadata": {
  "kernelspec": {
   "display_name": "Python 3 (ipykernel)",
   "language": "python",
   "name": "python3"
  },
  "language_info": {
   "codemirror_mode": {
    "name": "ipython",
    "version": 3
   },
   "file_extension": ".py",
   "mimetype": "text/x-python",
   "name": "python",
   "nbconvert_exporter": "python",
   "pygments_lexer": "ipython3",
   "version": "3.7.16"
  }
 },
 "nbformat": 4,
 "nbformat_minor": 5
}
