{
 "cells": [
  {
   "cell_type": "code",
   "execution_count": null,
   "id": "57048f82",
   "metadata": {},
   "outputs": [],
   "source": []
  },
  {
   "cell_type": "markdown",
   "id": "418f4328",
   "metadata": {},
   "source": [
    "Main"
   ]
  },
  {
   "cell_type": "code",
   "execution_count": 13,
   "id": "696009a7",
   "metadata": {},
   "outputs": [],
   "source": [
    "import requests\n",
    "import pandas as pd\n",
    "from bs4 import BeautifulSoup\n",
    "import time\n",
    "\n",
    "with open('sitemap.xml', 'r') as f:\n",
    "    data = f.read() \n",
    "\n",
    "bs_data = BeautifulSoup(data, 'xml') \n",
    "b_name = bs_data.find_all('loc') \n",
    "\n",
    "text_file = open(\"links.txt\", \"w\")\n",
    "exclusion = ['https://shop.glass-express.ua/','https://shop.glass-express.ua/klienty-o-nas',\n",
    "             'https://shop.glass-express.ua/en/klienty-o-nas', 'https://shop.glass-express.ua/ua/klienty-o-nas',\n",
    "             'https://shop.glass-express.ua/ua/o-kompanii','https://shop.glass-express.ua/dostavka-i-oplata',\n",
    "             'https://shop.glass-express.ua/kontakty', 'https://shop.glass-express.ua/garantiia-i-vozvrat',\n",
    "             'https://shop.glass-express.ua/zapisatsia-na-servis', 'https://shop.glass-express.ua/publichnyi-dogovor',\n",
    "             'https://shop.glass-express.ua/servisni-tsentri']\n",
    "\n",
    "\n",
    "#Create file with links\n",
    "for link in b_name :\n",
    "     if link.get_text() not in exclusion:\n",
    "            text_file.write(link.get_text()+ \"\\n\")\n",
    "text_file.close()\n",
    "\n",
    "\n"
   ]
  },
  {
   "cell_type": "code",
   "execution_count": 2,
   "id": "46316cf6",
   "metadata": {},
   "outputs": [],
   "source": []
  },
  {
   "cell_type": "code",
   "execution_count": null,
   "id": "c53ee959",
   "metadata": {},
   "outputs": [],
   "source": [
    "import pandas as pd\n",
    "from bs4 import BeautifulSoup\n",
    "import requests\n",
    "\n",
    "items = []\n",
    "url = 'https://shop.glass-express.ua/q3-2011-2018'\n",
    "\n",
    "page = requests.get(url)\n",
    "\n",
    "filteredNews = []\n",
    "allNews = []\n",
    "soup = BeautifulSoup(page.text, \"html.parser\")\n",
    "\n",
    "all = soup.findAll('select', class_='home-filter__field')\n",
    "allVal = soup.findAll('value')\n",
    "print(all)\n"
   ]
  },
  {
   "cell_type": "code",
   "execution_count": null,
   "id": "d2325a1b",
   "metadata": {},
   "outputs": [],
   "source": []
  },
  {
   "cell_type": "code",
   "execution_count": null,
   "id": "ff016464",
   "metadata": {},
   "outputs": [],
   "source": []
  },
  {
   "cell_type": "markdown",
   "id": "2eaa882e",
   "metadata": {},
   "source": []
  },
  {
   "cell_type": "code",
   "execution_count": null,
   "id": "35b779d3",
   "metadata": {},
   "outputs": [],
   "source": []
  },
  {
   "cell_type": "code",
   "execution_count": null,
   "id": "642b086c",
   "metadata": {},
   "outputs": [],
   "source": [
    "\n",
    "'''\n",
    "for child in bs_data.iter():\n",
    "    i = child.tag.find('}')+1\n",
    "    if child.tag[i:] == 'loc':\n",
    "        if child.text.split('/')[3]=='ua':\n",
    "            if child.text.split('/')[4] not in exclusion:\n",
    "                print( child.text)\n",
    "'''"
   ]
  },
  {
   "cell_type": "code",
   "execution_count": null,
   "id": "d2a08b8d",
   "metadata": {},
   "outputs": [],
   "source": []
  },
  {
   "cell_type": "code",
   "execution_count": null,
   "id": "3340c86e",
   "metadata": {},
   "outputs": [],
   "source": []
  },
  {
   "cell_type": "code",
   "execution_count": null,
   "id": "8065f0c5",
   "metadata": {},
   "outputs": [],
   "source": []
  },
  {
   "cell_type": "code",
   "execution_count": null,
   "id": "2c2d05e8",
   "metadata": {},
   "outputs": [],
   "source": []
  },
  {
   "cell_type": "code",
   "execution_count": null,
   "id": "3e6aa655",
   "metadata": {},
   "outputs": [],
   "source": []
  }
 ],
 "metadata": {
  "kernelspec": {
   "display_name": "Python 3 (ipykernel)",
   "language": "python",
   "name": "python3"
  },
  "language_info": {
   "codemirror_mode": {
    "name": "ipython",
    "version": 3
   },
   "file_extension": ".py",
   "mimetype": "text/x-python",
   "name": "python",
   "nbconvert_exporter": "python",
   "pygments_lexer": "ipython3",
   "version": "3.7.16"
  }
 },
 "nbformat": 4,
 "nbformat_minor": 5
}
