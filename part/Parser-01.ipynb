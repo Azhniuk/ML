{
 "cells": [
  {
   "cell_type": "code",
   "execution_count": null,
   "id": "ad81972b",
   "metadata": {},
   "outputs": [],
   "source": [
    "import pandas as pd\n",
    "from bs4 import BeautifulSoup\n",
    "import requests\n",
    "\n",
    "items = []\n",
    "url = 'https://shop.glass-express.ua'\n",
    "\n",
    "page = requests.get(url)\n",
    "print(page.status_code)\n",
    "#soup = BeautifulSoup(r.text, \"html.parser\")"
   ]
  },
  {
   "cell_type": "code",
   "execution_count": null,
   "id": "205a556a",
   "metadata": {},
   "outputs": [],
   "source": []
  },
  {
   "cell_type": "code",
   "execution_count": null,
   "id": "c72f87bf",
   "metadata": {},
   "outputs": [
    {
     "name": "stdout",
     "output_type": "stream",
     "text": [
      "200 https://www.luckyglass.com.ua/ua/catalog/?page=1\n",
      "200 https://www.luckyglass.com.ua/ua/catalog/?page=2\n",
      "200 https://www.luckyglass.com.ua/ua/catalog/?page=3\n",
      "200 https://www.luckyglass.com.ua/ua/catalog/?page=4\n",
      "200 https://www.luckyglass.com.ua/ua/catalog/?page=5\n",
      "200 https://www.luckyglass.com.ua/ua/catalog/?page=6\n",
      "200 https://www.luckyglass.com.ua/ua/catalog/?page=7\n",
      "200 https://www.luckyglass.com.ua/ua/catalog/?page=8\n",
      "200 https://www.luckyglass.com.ua/ua/catalog/?page=9\n",
      "200 https://www.luckyglass.com.ua/ua/catalog/?page=10\n",
      "200 https://www.luckyglass.com.ua/ua/catalog/?page=11\n",
      "200 https://www.luckyglass.com.ua/ua/catalog/?page=12\n",
      "200 https://www.luckyglass.com.ua/ua/catalog/?page=13\n",
      "200 https://www.luckyglass.com.ua/ua/catalog/?page=14\n",
      "200 https://www.luckyglass.com.ua/ua/catalog/?page=15\n",
      "200 https://www.luckyglass.com.ua/ua/catalog/?page=16\n",
      "200 https://www.luckyglass.com.ua/ua/catalog/?page=17\n",
      "200 https://www.luckyglass.com.ua/ua/catalog/?page=18\n",
      "200 https://www.luckyglass.com.ua/ua/catalog/?page=19\n",
      "200 https://www.luckyglass.com.ua/ua/catalog/?page=20\n"
     ]
    }
   ],
   "source": [
    "import pandas as pd\n",
    "from bs4 import BeautifulSoup\n",
    "import requests\n",
    "\n",
    "items = []\n",
    "url = 'https://www.luckyglass.com.ua/ua/catalog/'\n",
    "\n",
    "r = requests.get(url)\n",
    "soup = BeautifulSoup(r.text, \"html.parser\")\n",
    "\n",
    "all_items = soup.findAll('ul', class_='pagination pagination-large')\n",
    "max_page=0\n",
    "for _ in all_items:\n",
    "    for a in _.findAll('a'):\n",
    "        p_url = a.get('href')\n",
    "        if p_url.find('?page=')>0:\n",
    "            p_idx = int(p_url[p_url.find('?page=')+6:])\n",
    "            if p_idx>max_page:\n",
    "                max_page = p_idx\n",
    "\n",
    "for p in range(1, max_page+1):\n",
    "    if p!=1:\n",
    "        r = requests.get(url+'?page='+str(p))\n",
    "    print(r.status_code, url+'?page='+str(p))\n",
    "    soup = BeautifulSoup(r.text, \"html.parser\")\n",
    "    all_items = soup.findAll('div', class_='one-block')\n",
    "    \n",
    "    for i in all_items:\n",
    "        item = {}\n",
    "        for j in i.findAll('div', class_='vertical-middle-wrapper'):\n",
    "            for _ in j.findAll('a'):\n",
    "                item['link'] = url + _.get('href')\n",
    "                item['name'] = _.text.strip()\n",
    "\n",
    "        for j in i.findAll('div', class_='price'):            \n",
    "\n",
    "            item['price'] = j.text.strip().replace(' грн', '')\n",
    "            if j.get('style') is None:\n",
    "                item['available'] = 1\n",
    "            else:\n",
    "                item['available'] = 0\n",
    "\n",
    "        for j in i.findAll('div', class_='text-effect'):    \n",
    "\n",
    "            start, stop = 0, 0\n",
    "            _ = str(j)\n",
    "            counter = 0\n",
    "            while (stop<_.find('</div>')-6)and(counter<24):\n",
    "                start = _[stop:].find('<b>')+3+stop\n",
    "                stop = _[start:].find('</b>')+start\n",
    "\n",
    "                k = (_[start:stop]).strip()\n",
    "                start = _[stop:].find(':')+stop+1\n",
    "                stop = _[start:].find('<br/>')+start\n",
    "                v = (_[start:stop]).strip()\n",
    "                item[k] = v\n",
    "                counter+=1\n",
    "\n",
    "        if len(item)>0:\n",
    "            if '' in item.keys():\n",
    "                item.pop('')\n",
    "            items.append(item)\n",
    "\n",
    "df = pd.DataFrame(data=items)\n",
    "df.to_excel('luckyglass.xlsx', index=False)"
   ]
  },
  {
   "cell_type": "code",
   "execution_count": 2,
   "id": "69039c45",
   "metadata": {},
   "outputs": [],
   "source": [
    "import pandas"
   ]
  },
  {
   "cell_type": "code",
   "execution_count": null,
   "id": "08f262b1",
   "metadata": {},
   "outputs": [],
   "source": []
  },
  {
   "cell_type": "code",
   "execution_count": 5,
   "id": "70f3b9aa",
   "metadata": {},
   "outputs": [],
   "source": []
  },
  {
   "cell_type": "code",
   "execution_count": null,
   "id": "ec29d3ea",
   "metadata": {},
   "outputs": [],
   "source": []
  },
  {
   "cell_type": "code",
   "execution_count": null,
   "id": "46c0b99e",
   "metadata": {},
   "outputs": [],
   "source": []
  },
  {
   "cell_type": "code",
   "execution_count": null,
   "id": "fc426a91",
   "metadata": {},
   "outputs": [],
   "source": []
  }
 ],
 "metadata": {
  "kernelspec": {
   "display_name": "Python 3 (ipykernel)",
   "language": "python",
   "name": "python3"
  },
  "language_info": {
   "codemirror_mode": {
    "name": "ipython",
    "version": 3
   },
   "file_extension": ".py",
   "mimetype": "text/x-python",
   "name": "python",
   "nbconvert_exporter": "python",
   "pygments_lexer": "ipython3",
   "version": "3.7.16"
  }
 },
 "nbformat": 4,
 "nbformat_minor": 5
}
